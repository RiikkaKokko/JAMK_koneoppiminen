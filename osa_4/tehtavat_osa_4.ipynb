{
 "cells": [
  {
   "cell_type": "markdown",
   "metadata": {},
   "source": [
    "# Koneoppiminen: Osa 4: Tukivektorikone"
   ]
  },
  {
   "cell_type": "code",
   "execution_count": 1,
   "metadata": {
    "tags": [
     "student_info"
    ]
   },
   "outputs": [],
   "source": [
    "# Kirjoita tähän tietosi!\n",
    "student_name = 'Riikka Kokko'\n",
    "student_id = 'AA9067'"
   ]
  },
  {
   "cell_type": "markdown",
   "metadata": {},
   "source": [
    "## Tehtävä 1\n",
    "### Aihe: Pulsariaineisto\n",
    "\n",
    "3 pistettä\n",
    "\n",
    "Pulsareita käsittelevä aineisto osoitteesta https://archive.ics.uci.edu/ml/datasets/HTRU2 . Tavoitteena on luokitella aineiston datapisteet joko pulsariksi tai muunlaiseksi kohteeksi. Aineistossa on luokkamuuttuja viimeisessä sarakkeessa. \n",
    "\n",
    "1. Lataa aineisto DataFrameen. \n",
    "2. Nimeä DataFramen sarakkeet aineiston mukaisesti. Sarakkeiden nimet näet esimerkiksi `.arff`-tiedoston otsakkeesta.  \n",
    "3. Normalisoi sarakkeiden arvot. "
   ]
  },
  {
   "cell_type": "code",
   "execution_count": 2,
   "metadata": {},
   "outputs": [
    {
     "data": {
      "text/html": [
       "<div>\n",
       "<style scoped>\n",
       "    .dataframe tbody tr th:only-of-type {\n",
       "        vertical-align: middle;\n",
       "    }\n",
       "\n",
       "    .dataframe tbody tr th {\n",
       "        vertical-align: top;\n",
       "    }\n",
       "\n",
       "    .dataframe thead th {\n",
       "        text-align: right;\n",
       "    }\n",
       "</style>\n",
       "<table border=\"1\" class=\"dataframe\">\n",
       "  <thead>\n",
       "    <tr style=\"text-align: right;\">\n",
       "      <th></th>\n",
       "      <th>Mean of the integrated profile</th>\n",
       "      <th>Standard deviation of the integrated profile</th>\n",
       "      <th>Excess kurtosis of the integrated profile</th>\n",
       "      <th>Skewness of the integrated profile</th>\n",
       "      <th>Mean of the DM-SNR curve</th>\n",
       "      <th>Standard deviation of the DM-SNR curve</th>\n",
       "      <th>Excess kurtosis of the DM-SNR curve</th>\n",
       "      <th>Skewness of the DM-SNR curve</th>\n",
       "      <th>Class</th>\n",
       "    </tr>\n",
       "  </thead>\n",
       "  <tbody>\n",
       "    <tr>\n",
       "      <th>17892</th>\n",
       "      <td>0.699218</td>\n",
       "      <td>0.473948</td>\n",
       "      <td>0.169741</td>\n",
       "      <td>0.015077</td>\n",
       "      <td>0.004855</td>\n",
       "      <td>0.046437</td>\n",
       "      <td>0.493364</td>\n",
       "      <td>0.241336</td>\n",
       "      <td>0</td>\n",
       "    </tr>\n",
       "    <tr>\n",
       "      <th>17893</th>\n",
       "      <td>0.624942</td>\n",
       "      <td>0.333936</td>\n",
       "      <td>0.201496</td>\n",
       "      <td>0.030260</td>\n",
       "      <td>0.072572</td>\n",
       "      <td>0.360761</td>\n",
       "      <td>0.161482</td>\n",
       "      <td>0.008612</td>\n",
       "      <td>0</td>\n",
       "    </tr>\n",
       "    <tr>\n",
       "      <th>17894</th>\n",
       "      <td>0.607712</td>\n",
       "      <td>0.475144</td>\n",
       "      <td>0.204652</td>\n",
       "      <td>0.015007</td>\n",
       "      <td>0.095069</td>\n",
       "      <td>0.498699</td>\n",
       "      <td>0.149653</td>\n",
       "      <td>0.005509</td>\n",
       "      <td>0</td>\n",
       "    </tr>\n",
       "    <tr>\n",
       "      <th>17895</th>\n",
       "      <td>0.581866</td>\n",
       "      <td>0.393617</td>\n",
       "      <td>0.208855</td>\n",
       "      <td>0.025283</td>\n",
       "      <td>0.007766</td>\n",
       "      <td>0.058209</td>\n",
       "      <td>0.348926</td>\n",
       "      <td>0.114181</td>\n",
       "      <td>0</td>\n",
       "    </tr>\n",
       "    <tr>\n",
       "      <th>17896</th>\n",
       "      <td>0.274351</td>\n",
       "      <td>0.824590</td>\n",
       "      <td>0.330038</td>\n",
       "      <td>0.026918</td>\n",
       "      <td>0.842789</td>\n",
       "      <td>0.555255</td>\n",
       "      <td>0.040918</td>\n",
       "      <td>0.002855</td>\n",
       "      <td>0</td>\n",
       "    </tr>\n",
       "  </tbody>\n",
       "</table>\n",
       "</div>"
      ],
      "text/plain": [
       "       Mean of the integrated profile  \\\n",
       "17892                        0.699218   \n",
       "17893                        0.624942   \n",
       "17894                        0.607712   \n",
       "17895                        0.581866   \n",
       "17896                        0.274351   \n",
       "\n",
       "       Standard deviation of the integrated profile  \\\n",
       "17892                                      0.473948   \n",
       "17893                                      0.333936   \n",
       "17894                                      0.475144   \n",
       "17895                                      0.393617   \n",
       "17896                                      0.824590   \n",
       "\n",
       "       Excess kurtosis of the integrated profile  \\\n",
       "17892                                   0.169741   \n",
       "17893                                   0.201496   \n",
       "17894                                   0.204652   \n",
       "17895                                   0.208855   \n",
       "17896                                   0.330038   \n",
       "\n",
       "       Skewness of the integrated profile  Mean of the DM-SNR curve  \\\n",
       "17892                            0.015077                  0.004855   \n",
       "17893                            0.030260                  0.072572   \n",
       "17894                            0.015007                  0.095069   \n",
       "17895                            0.025283                  0.007766   \n",
       "17896                            0.026918                  0.842789   \n",
       "\n",
       "       Standard deviation of the DM-SNR curve  \\\n",
       "17892                                0.046437   \n",
       "17893                                0.360761   \n",
       "17894                                0.498699   \n",
       "17895                                0.058209   \n",
       "17896                                0.555255   \n",
       "\n",
       "       Excess kurtosis of the DM-SNR curve  Skewness of the DM-SNR curve  \\\n",
       "17892                             0.493364                      0.241336   \n",
       "17893                             0.161482                      0.008612   \n",
       "17894                             0.149653                      0.005509   \n",
       "17895                             0.348926                      0.114181   \n",
       "17896                             0.040918                      0.002855   \n",
       "\n",
       "       Class  \n",
       "17892      0  \n",
       "17893      0  \n",
       "17894      0  \n",
       "17895      0  \n",
       "17896      0  "
      ]
     },
     "execution_count": 2,
     "metadata": {},
     "output_type": "execute_result"
    }
   ],
   "source": [
    "# Kirjoita toteutuksesi tähän soluun. \n",
    "\n",
    "# Datan lataaminen.\n",
    "import pandas as pd\n",
    "#df=pd.read_csv(\"rexaSmall.names\", sep=\",\", delim_whitespace=False, encoding='latin1')\n",
    "df = pd.read_csv('HTRU_2.csv')\n",
    "# Sarakkeiden nimeäminen.\n",
    "df.columns = [\"Mean of the integrated profile\", \"Standard deviation of the integrated profile\", \"Excess kurtosis of the integrated profile\", \"Skewness of the integrated profile\", \"Mean of the DM-SNR curve\", \"Standard deviation of the DM-SNR curve\", \"Excess kurtosis of the DM-SNR curve\", \"Skewness of the DM-SNR curve\", \"Class\"]\n",
    "df.head()\n",
    "# Sarakkkeiden normalisointi. \n",
    "from sklearn.preprocessing import MinMaxScaler\n",
    "min_max_scaler = MinMaxScaler()\n",
    "df[[\"Mean of the integrated profile\", \"Standard deviation of the integrated profile\", \"Excess kurtosis of the integrated profile\", \"Skewness of the integrated profile\", \"Mean of the DM-SNR curve\", \"Standard deviation of the DM-SNR curve\", \"Excess kurtosis of the DM-SNR curve\", \"Skewness of the DM-SNR curve\"]] = min_max_scaler.fit_transform(df[[\"Mean of the integrated profile\", \"Standard deviation of the integrated profile\", \"Excess kurtosis of the integrated profile\", \"Skewness of the integrated profile\", \"Mean of the DM-SNR curve\", \"Standard deviation of the DM-SNR curve\", \"Excess kurtosis of the DM-SNR curve\", \"Skewness of the DM-SNR curve\"]])\n",
    "df.tail()"
   ]
  },
  {
   "cell_type": "code",
   "execution_count": 3,
   "metadata": {
    "tags": [
     "answer_4_1"
    ]
   },
   "outputs": [
    {
     "name": "stdout",
     "output_type": "stream",
     "text": [
      "Columns: Index(['Mean of the integrated profile',\n",
      "       'Standard deviation of the integrated profile',\n",
      "       'Excess kurtosis of the integrated profile',\n",
      "       'Skewness of the integrated profile', 'Mean of the DM-SNR curve',\n",
      "       'Standard deviation of the DM-SNR curve',\n",
      "       'Excess kurtosis of the DM-SNR curve', 'Skewness of the DM-SNR curve',\n",
      "       'Class'],\n",
      "      dtype='object')\n",
      "First row by position: Mean of the integrated profile                  0.517628\n",
      "Standard deviation of the integrated profile    0.460908\n",
      "Excess kurtosis of the integrated profile       0.235415\n",
      "Skewness of the integrated profile              0.018268\n",
      "Mean of the DM-SNR curve                        0.006560\n",
      "Standard deviation of the DM-SNR curve          0.072524\n",
      "Excess kurtosis of the DM-SNR curve             0.364015\n",
      "Skewness of the DM-SNR curve                    0.108443\n",
      "Class                                           0.000000\n",
      "Name: 0, dtype: float64\n"
     ]
    }
   ],
   "source": [
    "# Tehtävän vastaukset. Huom! Älä muokkaa tätä solua, vaan aja se, kun olet suorittanut tehtävän. \n",
    "# DataFramen tulisi olla df-muuttujassa. \n",
    "print(f'Columns: {df.columns}')\n",
    "print(f'First row by position: {df.iloc[0]}')"
   ]
  },
  {
   "cell_type": "markdown",
   "metadata": {},
   "source": [
    "## Tehtävä 2\n",
    "### Aihe: Koulutus- ja testausaineisto\n",
    "\n",
    "3 pistettä\n",
    "\n",
    "Jaa aineisto koulutus- ja testausaineistoon käyttäen `scikit-learn`-kirjaston [train_test_split](https://scikit-learn.org/stable/modules/generated/sklearn.model_selection.train_test_split.html)-funktiota. Laita puolet aineistosta kumpaankin. \n",
    "\n",
    "1. Tallenna koulutusaineisto ja sen luokkamuuttuja muuttujiin `X_train`, `y_train`,\n",
    "2. ja toisaalta testausaineiston `X_test`, `y_test`. \n",
    "\n",
    "Käytä satunnaissiemenenä lukua `1492` ja testiaieiston kokoe 33%."
   ]
  },
  {
   "cell_type": "code",
   "execution_count": 4,
   "metadata": {},
   "outputs": [],
   "source": [
    "# Kirjoita toteutuksesi tähän soluun. \n",
    "from sklearn.model_selection import train_test_split\n",
    "X=df.drop(\"Class\", axis=1)\n",
    "y=df[\"Class\"]\n",
    "X_train, X_test, y_train, y_test = train_test_split(X, y, test_size=0.33, random_state=1492)"
   ]
  },
  {
   "cell_type": "code",
   "execution_count": 5,
   "metadata": {
    "tags": [
     "answer_4_2"
    ]
   },
   "outputs": [
    {
     "name": "stdout",
     "output_type": "stream",
     "text": [
      "X_train: 11990\n",
      "X_test: 5907\n",
      "y_train: 11990\n",
      "y_test: 5907\n"
     ]
    }
   ],
   "source": [
    "# Tehtävän vastaukset. Huom! Älä muokkaa tätä solua, vaan aja se, kun olet suorittanut tehtävän. \n",
    "print(f'X_train: {len(X_train)}')\n",
    "print(f'X_test: {len(X_test)}')\n",
    "print(f'y_train: {len(y_train)}')\n",
    "print(f'y_test: {len(y_test)}')"
   ]
  },
  {
   "cell_type": "markdown",
   "metadata": {},
   "source": [
    "## Tehtävä 3\n",
    "### Aihe: Tukivektorikone\n",
    "\n",
    "4 pistettä\n",
    "\n",
    "1. Käytä `scikit-learn`-kirjaston *Linear Support Vector Classification* -funktiota kouluttaaksesi koulutusaineistollasi luokittelija, joka erottelee pulsarit muista kohteista. \n",
    "\n",
    "2. Luo ennusteet testausaineistosi datapisteille `y_pred`-muuttujaan. \n",
    "\n",
    "3. Tee `metrics`-moduulilla [luokitteluraportti](https://scikit-learn.org/stable/modules/generated/sklearn.metrics.classification_report.html) testausaineistosi ennusteille. Tallenna raportti `cr`-muuttujaan. Kannattaa myös tulostaa se, jotta näet itse tulokset. \n",
    "\n",
    "4. Tee `metrics`-moduulilla sekaannusmatriisi ja tallenna se `cm`-muuttujaan. "
   ]
  },
  {
   "cell_type": "code",
   "execution_count": 24,
   "metadata": {},
   "outputs": [
    {
     "data": {
      "text/plain": [
       "array([0, 0, 0, ..., 0, 0, 0], dtype=int64)"
      ]
     },
     "execution_count": 24,
     "metadata": {},
     "output_type": "execute_result"
    }
   ],
   "source": [
    "# Kirjoita toteutuksesi tähän soluun. \n",
    "from sklearn import svm\n",
    "clf = svm.SVC(kernel='linear') \n",
    "clf.fit(X_train, y_train)\n",
    "y_pred = clf.predict(X_test)\n",
    "y_pred"
   ]
  },
  {
   "cell_type": "code",
   "execution_count": 25,
   "metadata": {},
   "outputs": [
    {
     "data": {
      "text/plain": [
       "0    16258\n",
       "1     1639\n",
       "Name: Class, dtype: int64"
      ]
     },
     "execution_count": 25,
     "metadata": {},
     "output_type": "execute_result"
    }
   ],
   "source": [
    "item_counts = df[\"Class\"].value_counts(normalize=False)\n",
    "item_counts"
   ]
  },
  {
   "cell_type": "code",
   "execution_count": 28,
   "metadata": {},
   "outputs": [],
   "source": [
    "from sklearn.metrics import classification_report, confusion_matrix\n",
    "cm=confusion_matrix(y_test,y_pred)\n",
    "cr=classification_report(y_test,y_pred)"
   ]
  },
  {
   "cell_type": "code",
   "execution_count": 29,
   "metadata": {
    "tags": [
     "answer_4_3"
    ]
   },
   "outputs": [
    {
     "name": "stdout",
     "output_type": "stream",
     "text": [
      "Classification report:\n",
      "               precision    recall  f1-score   support\n",
      "\n",
      "           0       0.98      1.00      0.99      5356\n",
      "           1       0.96      0.78      0.86       551\n",
      "\n",
      "    accuracy                           0.98      5907\n",
      "   macro avg       0.97      0.89      0.92      5907\n",
      "weighted avg       0.98      0.98      0.98      5907\n",
      "\n",
      "Confusion matrix:\n",
      " [[5340   16]\n",
      " [ 121  430]]\n"
     ]
    }
   ],
   "source": [
    "# Tehtävän vastaukset. Huom! Älä muokkaa tätä solua, vaan aja se, kun olet suorittanut tehtävän. \n",
    "# Tulokset ovat cm- ja cr-muuttujissa. \n",
    "print(f'Classification report:\\n {cr}')\n",
    "print(f'Confusion matrix:\\n {cm}')"
   ]
  },
  {
   "cell_type": "code",
   "execution_count": null,
   "metadata": {},
   "outputs": [],
   "source": []
  }
 ],
 "metadata": {
  "kernelspec": {
   "display_name": "Python 3",
   "language": "python",
   "name": "python3"
  },
  "language_info": {
   "codemirror_mode": {
    "name": "ipython",
    "version": 3
   },
   "file_extension": ".py",
   "mimetype": "text/x-python",
   "name": "python",
   "nbconvert_exporter": "python",
   "pygments_lexer": "ipython3",
   "version": "3.7.3"
  }
 },
 "nbformat": 4,
 "nbformat_minor": 4
}
