{
 "cells": [
  {
   "cell_type": "markdown",
   "metadata": {},
   "source": [
    "# Koneoppiminen: Osa 4: Tukivektorikone"
   ]
  },
  {
   "cell_type": "code",
   "execution_count": null,
   "metadata": {
    "tags": [
     "student_info"
    ]
   },
   "outputs": [],
   "source": [
    "# Kirjoita tähän tietosi!\n",
    "student_name = 'Riikka Kokko'\n",
    "student_id = 'AA9067'"
   ]
  },
  {
   "cell_type": "markdown",
   "metadata": {},
   "source": [
    "## Tehtävä 1\n",
    "### Aihe: Pulsariaineisto\n",
    "\n",
    "3 pistettä\n",
    "\n",
    "Pulsareita käsittelevä aineisto osoitteesta https://archive.ics.uci.edu/ml/datasets/HTRU2 . Tavoitteena on luokitella aineiston datapisteet joko pulsariksi tai muunlaiseksi kohteeksi. Aineistossa on luokkamuuttuja viimeisessä sarakkeessa. \n",
    "\n",
    "1. Lataa aineisto DataFrameen. \n",
    "2. Nimeä DataFramen sarakkeet aineiston mukaisesti. Sarakkeiden nimet näet esimerkiksi `.arff`-tiedoston otsakkeesta.  \n",
    "3. Normalisoi sarakkeiden arvot. "
   ]
  },
  {
   "cell_type": "code",
   "execution_count": null,
   "metadata": {},
   "outputs": [],
   "source": [
    "# Kirjoita toteutuksesi tähän soluun. \n",
    "\n",
    "# Datan lataaminen.\n",
    "\n",
    "# Sarakkeiden nimeäminen.\n",
    "\n",
    "# Sarakkkeiden normalisointi. \n"
   ]
  },
  {
   "cell_type": "code",
   "execution_count": null,
   "metadata": {
    "tags": [
     "answer_4_1"
    ]
   },
   "outputs": [],
   "source": [
    "# Tehtävän vastaukset. Huom! Älä muokkaa tätä solua, vaan aja se, kun olet suorittanut tehtävän. \n",
    "# DataFramen tulisi olla df-muuttujassa. \n",
    "print(f'Columns: {df.columns}')\n",
    "print(f'First row by position: {df.iloc[0]}')"
   ]
  },
  {
   "cell_type": "markdown",
   "metadata": {},
   "source": [
    "## Tehtävä 2\n",
    "### Aihe: Koulutus- ja testausaineisto\n",
    "\n",
    "3 pistettä\n",
    "\n",
    "Jaa aineisto koulutus- ja testausaineistoon käyttäen `scikit-learn`-kirjaston [train_test_split](https://scikit-learn.org/stable/modules/generated/sklearn.model_selection.train_test_split.html)-funktiota. Laita puolet aineistosta kumpaankin. \n",
    "\n",
    "1. Tallenna koulutusaineisto ja sen luokkamuuttuja muuttujiin `X_train`, `y_train`,\n",
    "2. ja toisaalta testausaineiston `X_test`, `y_test`. \n",
    "\n",
    "Käytä satunnaissiemenenä lukua `1492` ja testiaieiston kokoe 33%."
   ]
  },
  {
   "cell_type": "code",
   "execution_count": null,
   "metadata": {},
   "outputs": [],
   "source": [
    "# Kirjoita toteutuksesi tähän soluun. \n"
   ]
  },
  {
   "cell_type": "code",
   "execution_count": null,
   "metadata": {
    "tags": [
     "answer_4_2"
    ]
   },
   "outputs": [],
   "source": [
    "# Tehtävän vastaukset. Huom! Älä muokkaa tätä solua, vaan aja se, kun olet suorittanut tehtävän. \n",
    "print(f'X_train: {len(X_train)}')\n",
    "print(f'X_test: {len(X_test)}')\n",
    "print(f'y_train: {len(y_train)}')\n",
    "print(f'y_test: {len(y_test)}')"
   ]
  },
  {
   "cell_type": "markdown",
   "metadata": {},
   "source": [
    "## Tehtävä 3\n",
    "### Aihe: Tukivektorikone\n",
    "\n",
    "4 pistettä\n",
    "\n",
    "1. Käytä `scikit-learn`-kirjaston *Linear Support Vector Classification* -funktiota kouluttaaksesi koulutusaineistollasi luokittelija, joka erottelee pulsarit muista kohteista. \n",
    "\n",
    "2. Luo ennusteet testausaineistosi datapisteille `y_pred`-muuttujaan. \n",
    "\n",
    "3. Tee `metrics`-moduulilla [luokitteluraportti](https://scikit-learn.org/stable/modules/generated/sklearn.metrics.classification_report.html) testausaineistosi ennusteille. Tallenna raportti `cr`-muuttujaan. Kannattaa myös tulostaa se, jotta näet itse tulokset. \n",
    "\n",
    "4. Tee `metrics`-moduulilla sekaannusmatriisi ja tallenna se `cm`-muuttujaan. "
   ]
  },
  {
   "cell_type": "code",
   "execution_count": null,
   "metadata": {},
   "outputs": [],
   "source": [
    "# Kirjoita toteutuksesi tähän soluun. \n"
   ]
  },
  {
   "cell_type": "code",
   "execution_count": null,
   "metadata": {
    "tags": [
     "answer_4_3"
    ]
   },
   "outputs": [],
   "source": [
    "# Tehtävän vastaukset. Huom! Älä muokkaa tätä solua, vaan aja se, kun olet suorittanut tehtävän. \n",
    "# Tulokset ovat cm- ja cr-muuttujissa. \n",
    "print(f'Classification report:\\n {cr}')\n",
    "print(f'Confusion matrix:\\n {cm}')"
   ]
  }
 ],
 "metadata": {
  "kernelspec": {
   "display_name": "Python 3",
   "language": "python",
   "name": "python3"
  },
  "language_info": {
   "codemirror_mode": {
    "name": "ipython",
    "version": 3
   },
   "file_extension": ".py",
   "mimetype": "text/x-python",
   "name": "python",
   "nbconvert_exporter": "python",
   "pygments_lexer": "ipython3",
   "version": "3.7.3"
  }
 },
 "nbformat": 4,
 "nbformat_minor": 4
}
