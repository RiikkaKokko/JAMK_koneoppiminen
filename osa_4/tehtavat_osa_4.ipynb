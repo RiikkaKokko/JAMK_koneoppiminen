{
 "cells": [
  {
   "cell_type": "markdown",
   "metadata": {},
   "source": [
    "# Koneoppiminen: Osa 4: Tukivektorikone"
   ]
  },
  {
   "cell_type": "code",
   "execution_count": 29,
   "metadata": {
    "tags": [
     "student_info"
    ]
   },
   "outputs": [],
   "source": [
    "# Kirjoita tähän tietosi!\n",
    "student_name = 'Riikka Kokko'\n",
    "student_id = 'AA9067'"
   ]
  },
  {
   "cell_type": "markdown",
   "metadata": {},
   "source": [
    "## Tehtävä 1\n",
    "### Aihe: Pulsariaineisto\n",
    "\n",
    "3 pistettä\n",
    "\n",
    "Pulsareita käsittelevä aineisto osoitteesta https://archive.ics.uci.edu/ml/datasets/HTRU2 . Tavoitteena on luokitella aineiston datapisteet joko pulsariksi tai muunlaiseksi kohteeksi. Aineistossa on luokkamuuttuja viimeisessä sarakkeessa. \n",
    "\n",
    "1. Lataa aineisto DataFrameen. \n",
    "2. Nimeä DataFramen sarakkeet aineiston mukaisesti. Sarakkeiden nimet näet esimerkiksi `.arff`-tiedoston otsakkeesta.  \n",
    "3. Normalisoi sarakkeiden arvot. "
   ]
  },
  {
   "cell_type": "code",
   "execution_count": 30,
   "metadata": {},
   "outputs": [
    {
     "data": {
      "text/html": [
       "<div>\n",
       "<style scoped>\n",
       "    .dataframe tbody tr th:only-of-type {\n",
       "        vertical-align: middle;\n",
       "    }\n",
       "\n",
       "    .dataframe tbody tr th {\n",
       "        vertical-align: top;\n",
       "    }\n",
       "\n",
       "    .dataframe thead th {\n",
       "        text-align: right;\n",
       "    }\n",
       "</style>\n",
       "<table border=\"1\" class=\"dataframe\">\n",
       "  <thead>\n",
       "    <tr style=\"text-align: right;\">\n",
       "      <th></th>\n",
       "      <th>Profile_mean</th>\n",
       "      <th>Profile_stdev</th>\n",
       "      <th>Profile_skewness</th>\n",
       "      <th>Profile_kurtosis</th>\n",
       "      <th>DM_mean</th>\n",
       "      <th>DM_stdev</th>\n",
       "      <th>DM_skewness</th>\n",
       "      <th>DM_kurtosis</th>\n",
       "      <th>class</th>\n",
       "    </tr>\n",
       "  </thead>\n",
       "  <tbody>\n",
       "    <tr>\n",
       "      <th>17893</th>\n",
       "      <td>136.429688</td>\n",
       "      <td>59.847421</td>\n",
       "      <td>-0.187846</td>\n",
       "      <td>-0.738123</td>\n",
       "      <td>1.296823</td>\n",
       "      <td>12.166062</td>\n",
       "      <td>15.450260</td>\n",
       "      <td>285.931022</td>\n",
       "      <td>b'0'</td>\n",
       "    </tr>\n",
       "    <tr>\n",
       "      <th>17894</th>\n",
       "      <td>122.554688</td>\n",
       "      <td>49.485605</td>\n",
       "      <td>0.127978</td>\n",
       "      <td>0.323061</td>\n",
       "      <td>16.409699</td>\n",
       "      <td>44.626893</td>\n",
       "      <td>2.945244</td>\n",
       "      <td>8.297092</td>\n",
       "      <td>b'0'</td>\n",
       "    </tr>\n",
       "    <tr>\n",
       "      <th>17895</th>\n",
       "      <td>119.335938</td>\n",
       "      <td>59.935939</td>\n",
       "      <td>0.159363</td>\n",
       "      <td>-0.743025</td>\n",
       "      <td>21.430602</td>\n",
       "      <td>58.872000</td>\n",
       "      <td>2.499517</td>\n",
       "      <td>4.595173</td>\n",
       "      <td>b'0'</td>\n",
       "    </tr>\n",
       "    <tr>\n",
       "      <th>17896</th>\n",
       "      <td>114.507812</td>\n",
       "      <td>53.902400</td>\n",
       "      <td>0.201161</td>\n",
       "      <td>-0.024789</td>\n",
       "      <td>1.946488</td>\n",
       "      <td>13.381731</td>\n",
       "      <td>10.007967</td>\n",
       "      <td>134.238910</td>\n",
       "      <td>b'0'</td>\n",
       "    </tr>\n",
       "    <tr>\n",
       "      <th>17897</th>\n",
       "      <td>57.062500</td>\n",
       "      <td>85.797340</td>\n",
       "      <td>1.406391</td>\n",
       "      <td>0.089520</td>\n",
       "      <td>188.306020</td>\n",
       "      <td>64.712562</td>\n",
       "      <td>-1.597527</td>\n",
       "      <td>1.429475</td>\n",
       "      <td>b'0'</td>\n",
       "    </tr>\n",
       "  </tbody>\n",
       "</table>\n",
       "</div>"
      ],
      "text/plain": [
       "       Profile_mean  Profile_stdev  Profile_skewness  Profile_kurtosis  \\\n",
       "17893    136.429688      59.847421         -0.187846         -0.738123   \n",
       "17894    122.554688      49.485605          0.127978          0.323061   \n",
       "17895    119.335938      59.935939          0.159363         -0.743025   \n",
       "17896    114.507812      53.902400          0.201161         -0.024789   \n",
       "17897     57.062500      85.797340          1.406391          0.089520   \n",
       "\n",
       "          DM_mean   DM_stdev  DM_skewness  DM_kurtosis class  \n",
       "17893    1.296823  12.166062    15.450260   285.931022  b'0'  \n",
       "17894   16.409699  44.626893     2.945244     8.297092  b'0'  \n",
       "17895   21.430602  58.872000     2.499517     4.595173  b'0'  \n",
       "17896    1.946488  13.381731    10.007967   134.238910  b'0'  \n",
       "17897  188.306020  64.712562    -1.597527     1.429475  b'0'  "
      ]
     },
     "execution_count": 30,
     "metadata": {},
     "output_type": "execute_result"
    }
   ],
   "source": [
    "# Kirjoita toteutuksesi tähän soluun. \n",
    "\n",
    "# Datan lataaminen.\n",
    "\n",
    "from scipy.io import arff\n",
    "\n",
    "import pandas as pd\n",
    "\n",
    "data = arff.loadarff('HTRU_2.arff')\n",
    "\n",
    "df = pd.DataFrame(data[0])\n",
    "\n",
    "#sarakkeiden nimeäminen\n",
    "df.columns=[\"Profile_mean\", \"Profile_stdev\", \"Profile_skewness\", \"Profile_kurtosis\", \"DM_mean\", \"DM_stdev\", \"DM_skewness\", \"DM_kurtosis\", \"class\"]\n",
    "\n",
    "df.tail()"
   ]
  },
  {
   "cell_type": "code",
   "execution_count": 31,
   "metadata": {},
   "outputs": [
    {
     "data": {
      "text/plain": [
       "b'0'    16259\n",
       "b'1'     1639\n",
       "Name: class, dtype: int64"
      ]
     },
     "execution_count": 31,
     "metadata": {},
     "output_type": "execute_result"
    }
   ],
   "source": [
    "df[\"class\"].value_counts()"
   ]
  },
  {
   "cell_type": "code",
   "execution_count": 32,
   "metadata": {},
   "outputs": [
    {
     "data": {
      "text/html": [
       "<div>\n",
       "<style scoped>\n",
       "    .dataframe tbody tr th:only-of-type {\n",
       "        vertical-align: middle;\n",
       "    }\n",
       "\n",
       "    .dataframe tbody tr th {\n",
       "        vertical-align: top;\n",
       "    }\n",
       "\n",
       "    .dataframe thead th {\n",
       "        text-align: right;\n",
       "    }\n",
       "</style>\n",
       "<table border=\"1\" class=\"dataframe\">\n",
       "  <thead>\n",
       "    <tr style=\"text-align: right;\">\n",
       "      <th></th>\n",
       "      <th>Profile_mean</th>\n",
       "      <th>Profile_stdev</th>\n",
       "      <th>Profile_skewness</th>\n",
       "      <th>Profile_kurtosis</th>\n",
       "      <th>DM_mean</th>\n",
       "      <th>DM_stdev</th>\n",
       "      <th>DM_skewness</th>\n",
       "      <th>DM_kurtosis</th>\n",
       "      <th>class</th>\n",
       "    </tr>\n",
       "  </thead>\n",
       "  <tbody>\n",
       "    <tr>\n",
       "      <th>0</th>\n",
       "      <td>0.721342</td>\n",
       "      <td>0.417687</td>\n",
       "      <td>0.165043</td>\n",
       "      <td>0.015627</td>\n",
       "      <td>0.013382</td>\n",
       "      <td>0.113681</td>\n",
       "      <td>0.294986</td>\n",
       "      <td>0.063890</td>\n",
       "      <td>0.0</td>\n",
       "    </tr>\n",
       "    <tr>\n",
       "      <th>1</th>\n",
       "      <td>0.517628</td>\n",
       "      <td>0.460908</td>\n",
       "      <td>0.235415</td>\n",
       "      <td>0.018268</td>\n",
       "      <td>0.006560</td>\n",
       "      <td>0.072524</td>\n",
       "      <td>0.364015</td>\n",
       "      <td>0.108443</td>\n",
       "      <td>0.0</td>\n",
       "    </tr>\n",
       "    <tr>\n",
       "      <th>2</th>\n",
       "      <td>0.520346</td>\n",
       "      <td>0.196868</td>\n",
       "      <td>0.221138</td>\n",
       "      <td>0.040677</td>\n",
       "      <td>0.013030</td>\n",
       "      <td>0.139188</td>\n",
       "      <td>0.288624</td>\n",
       "      <td>0.054610</td>\n",
       "      <td>0.0</td>\n",
       "    </tr>\n",
       "    <tr>\n",
       "      <th>3</th>\n",
       "      <td>0.700933</td>\n",
       "      <td>0.437884</td>\n",
       "      <td>0.181750</td>\n",
       "      <td>0.016534</td>\n",
       "      <td>0.015368</td>\n",
       "      <td>0.131583</td>\n",
       "      <td>0.266348</td>\n",
       "      <td>0.046581</td>\n",
       "      <td>0.0</td>\n",
       "    </tr>\n",
       "    <tr>\n",
       "      <th>4</th>\n",
       "      <td>0.443854</td>\n",
       "      <td>0.214847</td>\n",
       "      <td>0.249044</td>\n",
       "      <td>0.041712</td>\n",
       "      <td>0.004327</td>\n",
       "      <td>0.039684</td>\n",
       "      <td>0.462029</td>\n",
       "      <td>0.213369</td>\n",
       "      <td>0.0</td>\n",
       "    </tr>\n",
       "  </tbody>\n",
       "</table>\n",
       "</div>"
      ],
      "text/plain": [
       "   Profile_mean  Profile_stdev  Profile_skewness  Profile_kurtosis   DM_mean  \\\n",
       "0      0.721342       0.417687          0.165043          0.015627  0.013382   \n",
       "1      0.517628       0.460908          0.235415          0.018268  0.006560   \n",
       "2      0.520346       0.196868          0.221138          0.040677  0.013030   \n",
       "3      0.700933       0.437884          0.181750          0.016534  0.015368   \n",
       "4      0.443854       0.214847          0.249044          0.041712  0.004327   \n",
       "\n",
       "   DM_stdev  DM_skewness  DM_kurtosis  class  \n",
       "0  0.113681     0.294986     0.063890    0.0  \n",
       "1  0.072524     0.364015     0.108443    0.0  \n",
       "2  0.139188     0.288624     0.054610    0.0  \n",
       "3  0.131583     0.266348     0.046581    0.0  \n",
       "4  0.039684     0.462029     0.213369    0.0  "
      ]
     },
     "execution_count": 32,
     "metadata": {},
     "output_type": "execute_result"
    }
   ],
   "source": [
    "# Sarakkkeiden normalisointi. MinMaxScaler\n",
    "from sklearn.preprocessing import MinMaxScaler\n",
    "min_max_scaler = MinMaxScaler()\n",
    "df[[\"Profile_mean\", \"Profile_stdev\", \"Profile_skewness\", \"Profile_kurtosis\", \"DM_mean\", \"DM_stdev\", \"DM_skewness\", \"DM_kurtosis\", \"class\"]] = min_max_scaler.fit_transform(df[[\"Profile_mean\", \"Profile_stdev\", \"Profile_skewness\", \"Profile_kurtosis\", \"DM_mean\", \"DM_stdev\", \"DM_skewness\", \"DM_kurtosis\", \"class\"]])\n",
    "df.head()"
   ]
  },
  {
   "cell_type": "code",
   "execution_count": 33,
   "metadata": {},
   "outputs": [],
   "source": [
    "# Sarakkkeiden normalisointi. StandardScaler\n",
    "#from sklearn.preprocessing import StandardScaler\n",
    "#scaler = StandardScaler()\n",
    "#df[[\"Profile_mean\", \"Profile_stdev\", \"Profile_skewness\", \"Profile_kurtosis\", \"DM_mean\", \"DM_stdev\", \"DM_skewness\", \"DM_kurtosis\", \"class\"]] = scaler.fit_transform(df[[\"Profile_mean\", \"Profile_stdev\", \"Profile_skewness\", \"Profile_kurtosis\", \"DM_mean\", \"DM_stdev\", \"DM_skewness\", \"DM_kurtosis\", \"class\"]])\n",
    "#df.head()"
   ]
  },
  {
   "cell_type": "code",
   "execution_count": 34,
   "metadata": {},
   "outputs": [
    {
     "data": {
      "text/plain": [
       "0.0    16259\n",
       "1.0     1639\n",
       "Name: class, dtype: int64"
      ]
     },
     "execution_count": 34,
     "metadata": {},
     "output_type": "execute_result"
    }
   ],
   "source": [
    "df[\"class\"].value_counts()"
   ]
  },
  {
   "cell_type": "code",
   "execution_count": 35,
   "metadata": {
    "tags": [
     "answer_4_1"
    ]
   },
   "outputs": [
    {
     "name": "stdout",
     "output_type": "stream",
     "text": [
      "Columns: Index(['Profile_mean', 'Profile_stdev', 'Profile_skewness', 'Profile_kurtosis',\n",
      "       'DM_mean', 'DM_stdev', 'DM_skewness', 'DM_kurtosis', 'class'],\n",
      "      dtype='object')\n",
      "First row by position: Profile_mean        0.721342\n",
      "Profile_stdev       0.417687\n",
      "Profile_skewness    0.165043\n",
      "Profile_kurtosis    0.015627\n",
      "DM_mean             0.013382\n",
      "DM_stdev            0.113681\n",
      "DM_skewness         0.294986\n",
      "DM_kurtosis         0.063890\n",
      "class               0.000000\n",
      "Name: 0, dtype: float64\n"
     ]
    }
   ],
   "source": [
    "# Tehtävän vastaukset. Huom! Älä muokkaa tätä solua, vaan aja se, kun olet suorittanut tehtävän. \n",
    "# DataFramen tulisi olla df-muuttujassa. \n",
    "print(f'Columns: {df.columns}')\n",
    "print(f'First row by position: {df.iloc[0]}')"
   ]
  },
  {
   "cell_type": "markdown",
   "metadata": {},
   "source": [
    "## Tehtävä 2\n",
    "### Aihe: Koulutus- ja testausaineisto\n",
    "\n",
    "3 pistettä\n",
    "\n",
    "Jaa aineisto koulutus- ja testausaineistoon käyttäen `scikit-learn`-kirjaston [train_test_split](https://scikit-learn.org/stable/modules/generated/sklearn.model_selection.train_test_split.html)-funktiota. Laita puolet aineistosta kumpaankin. \n",
    "\n",
    "1. Tallenna koulutusaineisto ja sen luokkamuuttuja muuttujiin `X_train`, `y_train`,\n",
    "2. ja toisaalta testausaineiston `X_test`, `y_test`. \n",
    "\n",
    "Käytä satunnaissiemenenä lukua `1492` ja testiaieiston kokoe 33%."
   ]
  },
  {
   "cell_type": "code",
   "execution_count": 36,
   "metadata": {},
   "outputs": [],
   "source": [
    "# Kirjoita toteutuksesi tähän soluun. \n",
    "from sklearn.model_selection import train_test_split\n",
    "X=df.drop(\"class\", axis=1)\n",
    "y=df[\"class\"]\n",
    "X_train, X_test, y_train, y_test = train_test_split(X, y, test_size=0.33, random_state=1492)"
   ]
  },
  {
   "cell_type": "code",
   "execution_count": 37,
   "metadata": {
    "tags": [
     "answer_4_2"
    ]
   },
   "outputs": [
    {
     "name": "stdout",
     "output_type": "stream",
     "text": [
      "X_train: 11991\n",
      "X_test: 5907\n",
      "y_train: 11991\n",
      "y_test: 5907\n"
     ]
    }
   ],
   "source": [
    "# Tehtävän vastaukset. Huom! Älä muokkaa tätä solua, vaan aja se, kun olet suorittanut tehtävän. \n",
    "print(f'X_train: {len(X_train)}')\n",
    "print(f'X_test: {len(X_test)}')\n",
    "print(f'y_train: {len(y_train)}')\n",
    "print(f'y_test: {len(y_test)}')"
   ]
  },
  {
   "cell_type": "markdown",
   "metadata": {},
   "source": [
    "## Tehtävä 3\n",
    "### Aihe: Tukivektorikone\n",
    "\n",
    "4 pistettä\n",
    "\n",
    "1. Käytä `scikit-learn`-kirjaston *Linear Support Vector Classification* -funktiota kouluttaaksesi koulutusaineistollasi luokittelija, joka erottelee pulsarit muista kohteista. \n",
    "\n",
    "2. Luo ennusteet testausaineistosi datapisteille `y_pred`-muuttujaan. \n",
    "\n",
    "3. Tee `metrics`-moduulilla [luokitteluraportti](https://scikit-learn.org/stable/modules/generated/sklearn.metrics.classification_report.html) testausaineistosi ennusteille. Tallenna raportti `cr`-muuttujaan. Kannattaa myös tulostaa se, jotta näet itse tulokset. \n",
    "\n",
    "4. Tee `metrics`-moduulilla sekaannusmatriisi ja tallenna se `cm`-muuttujaan. "
   ]
  },
  {
   "cell_type": "code",
   "execution_count": 42,
   "metadata": {},
   "outputs": [
    {
     "data": {
      "text/plain": [
       "array([0., 0., 0., ..., 0., 1., 0.])"
      ]
     },
     "execution_count": 42,
     "metadata": {},
     "output_type": "execute_result"
    }
   ],
   "source": [
    "from sklearn import svm\n",
    "clf = svm.LinearSVC(random_state=0) \n",
    "clf.fit(X_train, y_train)\n",
    "y_pred = clf.predict(X_test)\n",
    "y_pred"
   ]
  },
  {
   "cell_type": "code",
   "execution_count": 43,
   "metadata": {},
   "outputs": [
    {
     "data": {
      "text/plain": [
       "0.0    16259\n",
       "1.0     1639\n",
       "Name: class, dtype: int64"
      ]
     },
     "execution_count": 43,
     "metadata": {},
     "output_type": "execute_result"
    }
   ],
   "source": [
    "item_counts = df[\"class\"].value_counts(normalize=False)\n",
    "item_counts"
   ]
  },
  {
   "cell_type": "code",
   "execution_count": 44,
   "metadata": {},
   "outputs": [],
   "source": [
    "from sklearn.metrics import classification_report, confusion_matrix\n",
    "cm=confusion_matrix(y_test,y_pred)\n",
    "cr=classification_report(y_test,y_pred)"
   ]
  },
  {
   "cell_type": "code",
   "execution_count": 45,
   "metadata": {
    "tags": [
     "answer_4_3"
    ]
   },
   "outputs": [
    {
     "name": "stdout",
     "output_type": "stream",
     "text": [
      "Classification report:\n",
      "               precision    recall  f1-score   support\n",
      "\n",
      "         0.0       0.98      1.00      0.99      5367\n",
      "         1.0       0.96      0.76      0.85       540\n",
      "\n",
      "    accuracy                           0.97      5907\n",
      "   macro avg       0.97      0.88      0.92      5907\n",
      "weighted avg       0.97      0.97      0.97      5907\n",
      "\n",
      "Confusion matrix:\n",
      " [[5348   19]\n",
      " [ 131  409]]\n"
     ]
    }
   ],
   "source": [
    "# Tehtävän vastaukset. Huom! Älä muokkaa tätä solua, vaan aja se, kun olet suorittanut tehtävän. \n",
    "# Tulokset ovat cm- ja cr-muuttujissa. \n",
    "print(f'Classification report:\\n {cr}')\n",
    "print(f'Confusion matrix:\\n {cm}')"
   ]
  },
  {
   "cell_type": "code",
   "execution_count": null,
   "metadata": {},
   "outputs": [],
   "source": []
  },
  {
   "cell_type": "code",
   "execution_count": null,
   "metadata": {},
   "outputs": [],
   "source": []
  }
 ],
 "metadata": {
  "kernelspec": {
   "display_name": "Python 3",
   "language": "python",
   "name": "python3"
  },
  "language_info": {
   "codemirror_mode": {
    "name": "ipython",
    "version": 3
   },
   "file_extension": ".py",
   "mimetype": "text/x-python",
   "name": "python",
   "nbconvert_exporter": "python",
   "pygments_lexer": "ipython3",
   "version": "3.7.3"
  }
 },
 "nbformat": 4,
 "nbformat_minor": 4
}
