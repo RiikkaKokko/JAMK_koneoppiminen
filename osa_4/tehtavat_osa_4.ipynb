{
 "cells": [
  {
   "cell_type": "markdown",
   "metadata": {},
   "source": [
    "# Koneoppiminen: Osa 4: Tukivektorikone"
   ]
  },
  {
   "cell_type": "code",
   "execution_count": null,
   "metadata": {
    "tags": [
     "student_info"
    ]
   },
   "outputs": [],
   "source": [
    "# Kirjoita tähän tietosi!\n",
    "student_name = 'Riikka Kokko'\n",
    "student_id = 'AA9067'"
   ]
  },
  {
   "cell_type": "markdown",
   "metadata": {},
   "source": [
    "## Tehtävä 1\n",
    "### Aihe: Pulsariaineisto\n",
    "\n",
    "3 pistettä\n",
    "\n",
    "Pulsareita käsittelevä aineisto osoitteesta https://archive.ics.uci.edu/ml/datasets/HTRU2 . Tavoitteena on luokitella aineiston datapisteet joko pulsariksi tai muunlaiseksi kohteeksi. Aineistossa on luokkamuuttuja viimeisessä sarakkeessa. \n",
    "\n",
    "1. Lataa aineisto DataFrameen. \n",
    "2. Nimeä DataFramen sarakkeet aineiston mukaisesti. Sarakkeiden nimet näet esimerkiksi `.arff`-tiedoston otsakkeesta.  \n",
    "3. Normalisoi sarakkeiden arvot. "
   ]
  },
  {
   "cell_type": "code",
   "execution_count": 17,
   "metadata": {},
   "outputs": [
    {
     "name": "stderr",
     "output_type": "stream",
     "text": [
      "b'Skipping line 5: expected 9 fields, saw 13\\nSkipping line 6: expected 9 fields, saw 10\\nSkipping line 15: expected 9 fields, saw 15\\nSkipping line 18: expected 9 fields, saw 15\\nSkipping line 19: expected 9 fields, saw 13\\nSkipping line 20: expected 9 fields, saw 12\\nSkipping line 22: expected 9 fields, saw 14\\nSkipping line 23: expected 9 fields, saw 14\\nSkipping line 24: expected 9 fields, saw 11\\nSkipping line 27: expected 9 fields, saw 13\\nSkipping line 28: expected 9 fields, saw 16\\nSkipping line 29: expected 9 fields, saw 14\\nSkipping line 30: expected 9 fields, saw 15\\nSkipping line 31: expected 9 fields, saw 13\\nSkipping line 32: expected 9 fields, saw 12\\nSkipping line 35: expected 9 fields, saw 13\\nSkipping line 36: expected 9 fields, saw 11\\nSkipping line 37: expected 9 fields, saw 13\\nSkipping line 38: expected 9 fields, saw 13\\nSkipping line 39: expected 9 fields, saw 12\\nSkipping line 42: expected 9 fields, saw 14\\nSkipping line 43: expected 9 fields, saw 13\\nSkipping line 44: expected 9 fields, saw 13\\nSkipping line 45: expected 9 fields, saw 14\\nSkipping line 46: expected 9 fields, saw 13\\nSkipping line 47: expected 9 fields, saw 15\\nSkipping line 48: expected 9 fields, saw 15\\nSkipping line 67: expected 9 fields, saw 17\\nSkipping line 68: expected 9 fields, saw 15\\nSkipping line 69: expected 9 fields, saw 18\\nSkipping line 72: expected 9 fields, saw 16\\nSkipping line 73: expected 9 fields, saw 13\\nSkipping line 77: expected 9 fields, saw 20\\nSkipping line 79: expected 9 fields, saw 18\\nSkipping line 80: expected 9 fields, saw 12\\nSkipping line 85: expected 9 fields, saw 16\\nSkipping line 86: expected 9 fields, saw 14\\nSkipping line 87: expected 9 fields, saw 14\\nSkipping line 88: expected 9 fields, saw 13\\nSkipping line 93: expected 9 fields, saw 15\\nSkipping line 96: expected 9 fields, saw 12\\nSkipping line 98: expected 9 fields, saw 11\\nSkipping line 100: expected 9 fields, saw 14\\nSkipping line 104: expected 9 fields, saw 14\\nSkipping line 106: expected 9 fields, saw 16\\nSkipping line 110: expected 9 fields, saw 11\\nSkipping line 112: expected 9 fields, saw 13\\nSkipping line 115: expected 9 fields, saw 17\\nSkipping line 119: expected 9 fields, saw 18\\n'\n"
     ]
    },
    {
     "data": {
      "text/html": [
       "<div>\n",
       "<style scoped>\n",
       "    .dataframe tbody tr th:only-of-type {\n",
       "        vertical-align: middle;\n",
       "    }\n",
       "\n",
       "    .dataframe tbody tr th {\n",
       "        vertical-align: top;\n",
       "    }\n",
       "\n",
       "    .dataframe thead th {\n",
       "        text-align: right;\n",
       "    }\n",
       "</style>\n",
       "<table border=\"1\" class=\"dataframe\">\n",
       "  <thead>\n",
       "    <tr style=\"text-align: right;\">\n",
       "      <th></th>\n",
       "      <th>Readme.txt</th>\n",
       "      <th>Unnamed: 1</th>\n",
       "      <th>Unnamed: 2</th>\n",
       "      <th>Unnamed: 3</th>\n",
       "      <th>12665317206</th>\n",
       "      <th>013661</th>\n",
       "      <th>0</th>\n",
       "      <th>Unnamed: 7</th>\n",
       "      <th>Unnamed: 8</th>\n",
       "    </tr>\n",
       "  </thead>\n",
       "  <tbody>\n",
       "    <tr>\n",
       "      <th>0</th>\n",
       "      <td>#</td>\n",
       "      <td>HTRU2</td>\n",
       "      <td>NaN</td>\n",
       "      <td>NaN</td>\n",
       "      <td>NaN</td>\n",
       "      <td>NaN</td>\n",
       "      <td>NaN</td>\n",
       "      <td>NaN</td>\n",
       "      <td>NaN</td>\n",
       "    </tr>\n",
       "    <tr>\n",
       "      <th>1</th>\n",
       "      <td>Contact:\\trob@scienceguyrob.com</td>\n",
       "      <td>or</td>\n",
       "      <td>robert.lyon@.manchester.ac.uk</td>\n",
       "      <td>NaN</td>\n",
       "      <td>NaN</td>\n",
       "      <td>NaN</td>\n",
       "      <td>NaN</td>\n",
       "      <td>NaN</td>\n",
       "      <td>NaN</td>\n",
       "    </tr>\n",
       "    <tr>\n",
       "      <th>2</th>\n",
       "      <td>Web:\\t\\thttp://www.scienceguyrob.com</td>\n",
       "      <td>or</td>\n",
       "      <td>http://www.cs.manchester.ac.uk</td>\n",
       "      <td>NaN</td>\n",
       "      <td>NaN</td>\n",
       "      <td>NaN</td>\n",
       "      <td>NaN</td>\n",
       "      <td>NaN</td>\n",
       "      <td>NaN</td>\n",
       "    </tr>\n",
       "    <tr>\n",
       "      <th>3</th>\n",
       "      <td>\\t\\t\\tor</td>\n",
       "      <td>alternatively</td>\n",
       "      <td>http://www.jb.man.ac.uk</td>\n",
       "      <td>NaN</td>\n",
       "      <td>NaN</td>\n",
       "      <td>NaN</td>\n",
       "      <td>NaN</td>\n",
       "      <td>NaN</td>\n",
       "      <td>NaN</td>\n",
       "    </tr>\n",
       "    <tr>\n",
       "      <th>4</th>\n",
       "      <td>**********************************************...</td>\n",
       "      <td>NaN</td>\n",
       "      <td>NaN</td>\n",
       "      <td>NaN</td>\n",
       "      <td>NaN</td>\n",
       "      <td>NaN</td>\n",
       "      <td>NaN</td>\n",
       "      <td>NaN</td>\n",
       "      <td>NaN</td>\n",
       "    </tr>\n",
       "  </tbody>\n",
       "</table>\n",
       "</div>"
      ],
      "text/plain": [
       "                                          Readme.txt     Unnamed: 1  \\\n",
       "0                                                  #          HTRU2   \n",
       "1                    Contact:\\trob@scienceguyrob.com             or   \n",
       "2               Web:\\t\\thttp://www.scienceguyrob.com             or   \n",
       "3                                           \\t\\t\\tor  alternatively   \n",
       "4  **********************************************...            NaN   \n",
       "\n",
       "                       Unnamed: 2 Unnamed: 3 12665317206 013661    0  \\\n",
       "0                             NaN        NaN         NaN    NaN  NaN   \n",
       "1   robert.lyon@.manchester.ac.uk        NaN         NaN    NaN  NaN   \n",
       "2  http://www.cs.manchester.ac.uk        NaN         NaN    NaN  NaN   \n",
       "3         http://www.jb.man.ac.uk        NaN         NaN    NaN  NaN   \n",
       "4                             NaN        NaN         NaN    NaN  NaN   \n",
       "\n",
       "  Unnamed: 7 Unnamed: 8  \n",
       "0        NaN        NaN  \n",
       "1        NaN        NaN  \n",
       "2        NaN        NaN  \n",
       "3        NaN        NaN  \n",
       "4        NaN        NaN  "
      ]
     },
     "execution_count": 17,
     "metadata": {},
     "output_type": "execute_result"
    }
   ],
   "source": [
    "# Kirjoita toteutuksesi tähän soluun. \n",
    "\n",
    "# Datan lataaminen.\n",
    "import pandas as pd\n",
    "#df=pd.read_csv(\"rexaSmall.names\", sep=\",\", delim_whitespace=False, encoding='latin1')\n",
    "df = pd.read_csv('HTRU2.tar.gz', compression='gzip', header=0, sep=' ', quotechar='\"', error_bad_lines=False)\n",
    "df.head()\n",
    "# Sarakkeiden nimeäminen.\n",
    "\n",
    "# Sarakkkeiden normalisointi. \n"
   ]
  },
  {
   "cell_type": "code",
   "execution_count": null,
   "metadata": {
    "tags": [
     "answer_4_1"
    ]
   },
   "outputs": [],
   "source": [
    "# Tehtävän vastaukset. Huom! Älä muokkaa tätä solua, vaan aja se, kun olet suorittanut tehtävän. \n",
    "# DataFramen tulisi olla df-muuttujassa. \n",
    "print(f'Columns: {df.columns}')\n",
    "print(f'First row by position: {df.iloc[0]}')"
   ]
  },
  {
   "cell_type": "markdown",
   "metadata": {},
   "source": [
    "## Tehtävä 2\n",
    "### Aihe: Koulutus- ja testausaineisto\n",
    "\n",
    "3 pistettä\n",
    "\n",
    "Jaa aineisto koulutus- ja testausaineistoon käyttäen `scikit-learn`-kirjaston [train_test_split](https://scikit-learn.org/stable/modules/generated/sklearn.model_selection.train_test_split.html)-funktiota. Laita puolet aineistosta kumpaankin. \n",
    "\n",
    "1. Tallenna koulutusaineisto ja sen luokkamuuttuja muuttujiin `X_train`, `y_train`,\n",
    "2. ja toisaalta testausaineiston `X_test`, `y_test`. \n",
    "\n",
    "Käytä satunnaissiemenenä lukua `1492` ja testiaieiston kokoe 33%."
   ]
  },
  {
   "cell_type": "code",
   "execution_count": null,
   "metadata": {},
   "outputs": [],
   "source": [
    "# Kirjoita toteutuksesi tähän soluun. \n"
   ]
  },
  {
   "cell_type": "code",
   "execution_count": null,
   "metadata": {
    "tags": [
     "answer_4_2"
    ]
   },
   "outputs": [],
   "source": [
    "# Tehtävän vastaukset. Huom! Älä muokkaa tätä solua, vaan aja se, kun olet suorittanut tehtävän. \n",
    "print(f'X_train: {len(X_train)}')\n",
    "print(f'X_test: {len(X_test)}')\n",
    "print(f'y_train: {len(y_train)}')\n",
    "print(f'y_test: {len(y_test)}')"
   ]
  },
  {
   "cell_type": "markdown",
   "metadata": {},
   "source": [
    "## Tehtävä 3\n",
    "### Aihe: Tukivektorikone\n",
    "\n",
    "4 pistettä\n",
    "\n",
    "1. Käytä `scikit-learn`-kirjaston *Linear Support Vector Classification* -funktiota kouluttaaksesi koulutusaineistollasi luokittelija, joka erottelee pulsarit muista kohteista. \n",
    "\n",
    "2. Luo ennusteet testausaineistosi datapisteille `y_pred`-muuttujaan. \n",
    "\n",
    "3. Tee `metrics`-moduulilla [luokitteluraportti](https://scikit-learn.org/stable/modules/generated/sklearn.metrics.classification_report.html) testausaineistosi ennusteille. Tallenna raportti `cr`-muuttujaan. Kannattaa myös tulostaa se, jotta näet itse tulokset. \n",
    "\n",
    "4. Tee `metrics`-moduulilla sekaannusmatriisi ja tallenna se `cm`-muuttujaan. "
   ]
  },
  {
   "cell_type": "code",
   "execution_count": null,
   "metadata": {},
   "outputs": [],
   "source": [
    "# Kirjoita toteutuksesi tähän soluun. \n"
   ]
  },
  {
   "cell_type": "code",
   "execution_count": null,
   "metadata": {
    "tags": [
     "answer_4_3"
    ]
   },
   "outputs": [],
   "source": [
    "# Tehtävän vastaukset. Huom! Älä muokkaa tätä solua, vaan aja se, kun olet suorittanut tehtävän. \n",
    "# Tulokset ovat cm- ja cr-muuttujissa. \n",
    "print(f'Classification report:\\n {cr}')\n",
    "print(f'Confusion matrix:\\n {cm}')"
   ]
  }
 ],
 "metadata": {
  "kernelspec": {
   "display_name": "Python 3",
   "language": "python",
   "name": "python3"
  },
  "language_info": {
   "codemirror_mode": {
    "name": "ipython",
    "version": 3
   },
   "file_extension": ".py",
   "mimetype": "text/x-python",
   "name": "python",
   "nbconvert_exporter": "python",
   "pygments_lexer": "ipython3",
   "version": "3.7.3"
  }
 },
 "nbformat": 4,
 "nbformat_minor": 4
}
