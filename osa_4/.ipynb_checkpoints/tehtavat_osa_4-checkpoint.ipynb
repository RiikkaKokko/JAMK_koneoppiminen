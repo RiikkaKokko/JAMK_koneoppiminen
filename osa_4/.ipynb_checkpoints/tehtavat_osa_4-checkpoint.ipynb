{
 "cells": [
  {
   "cell_type": "markdown",
   "metadata": {},
   "source": [
    "# Koneoppiminen: Osa 4: Tukivektorikone"
   ]
  },
  {
   "cell_type": "code",
   "execution_count": 1,
   "metadata": {
    "tags": [
     "student_info"
    ]
   },
   "outputs": [],
   "source": [
    "# Kirjoita tähän tietosi!\n",
    "student_name = 'Riikka Kokko'\n",
    "student_id = 'AA9067'"
   ]
  },
  {
   "cell_type": "markdown",
   "metadata": {},
   "source": [
    "## Tehtävä 1\n",
    "### Aihe: Pulsariaineisto\n",
    "\n",
    "3 pistettä\n",
    "\n",
    "Pulsareita käsittelevä aineisto osoitteesta https://archive.ics.uci.edu/ml/datasets/HTRU2 . Tavoitteena on luokitella aineiston datapisteet joko pulsariksi tai muunlaiseksi kohteeksi. Aineistossa on luokkamuuttuja viimeisessä sarakkeessa. \n",
    "\n",
    "1. Lataa aineisto DataFrameen. \n",
    "2. Nimeä DataFramen sarakkeet aineiston mukaisesti. Sarakkeiden nimet näet esimerkiksi `.arff`-tiedoston otsakkeesta.  \n",
    "3. Normalisoi sarakkeiden arvot. "
   ]
  },
  {
   "cell_type": "code",
   "execution_count": 23,
   "metadata": {},
   "outputs": [
    {
     "data": {
      "text/html": [
       "<div>\n",
       "<style scoped>\n",
       "    .dataframe tbody tr th:only-of-type {\n",
       "        vertical-align: middle;\n",
       "    }\n",
       "\n",
       "    .dataframe tbody tr th {\n",
       "        vertical-align: top;\n",
       "    }\n",
       "\n",
       "    .dataframe thead th {\n",
       "        text-align: right;\n",
       "    }\n",
       "</style>\n",
       "<table border=\"1\" class=\"dataframe\">\n",
       "  <thead>\n",
       "    <tr style=\"text-align: right;\">\n",
       "      <th></th>\n",
       "      <th>Profile_mean</th>\n",
       "      <th>Profile_stdev</th>\n",
       "      <th>Profile_skewness</th>\n",
       "      <th>Profile_kurtosis</th>\n",
       "      <th>DM_mean</th>\n",
       "      <th>DM_stdev</th>\n",
       "      <th>DM_skewness</th>\n",
       "      <th>DM_kurtosis</th>\n",
       "      <th>class</th>\n",
       "    </tr>\n",
       "  </thead>\n",
       "  <tbody>\n",
       "    <tr>\n",
       "      <th>0</th>\n",
       "      <td>140.562500</td>\n",
       "      <td>55.683782</td>\n",
       "      <td>-0.234571</td>\n",
       "      <td>-0.699648</td>\n",
       "      <td>3.199833</td>\n",
       "      <td>19.110426</td>\n",
       "      <td>7.975532</td>\n",
       "      <td>74.242225</td>\n",
       "      <td>b'0'</td>\n",
       "    </tr>\n",
       "    <tr>\n",
       "      <th>1</th>\n",
       "      <td>102.507812</td>\n",
       "      <td>58.882430</td>\n",
       "      <td>0.465318</td>\n",
       "      <td>-0.515088</td>\n",
       "      <td>1.677258</td>\n",
       "      <td>14.860146</td>\n",
       "      <td>10.576487</td>\n",
       "      <td>127.393580</td>\n",
       "      <td>b'0'</td>\n",
       "    </tr>\n",
       "    <tr>\n",
       "      <th>2</th>\n",
       "      <td>103.015625</td>\n",
       "      <td>39.341649</td>\n",
       "      <td>0.323328</td>\n",
       "      <td>1.051164</td>\n",
       "      <td>3.121237</td>\n",
       "      <td>21.744669</td>\n",
       "      <td>7.735822</td>\n",
       "      <td>63.171909</td>\n",
       "      <td>b'0'</td>\n",
       "    </tr>\n",
       "    <tr>\n",
       "      <th>3</th>\n",
       "      <td>136.750000</td>\n",
       "      <td>57.178449</td>\n",
       "      <td>-0.068415</td>\n",
       "      <td>-0.636238</td>\n",
       "      <td>3.642977</td>\n",
       "      <td>20.959280</td>\n",
       "      <td>6.896499</td>\n",
       "      <td>53.593661</td>\n",
       "      <td>b'0'</td>\n",
       "    </tr>\n",
       "    <tr>\n",
       "      <th>4</th>\n",
       "      <td>88.726562</td>\n",
       "      <td>40.672225</td>\n",
       "      <td>0.600866</td>\n",
       "      <td>1.123492</td>\n",
       "      <td>1.178930</td>\n",
       "      <td>11.468720</td>\n",
       "      <td>14.269573</td>\n",
       "      <td>252.567306</td>\n",
       "      <td>b'0'</td>\n",
       "    </tr>\n",
       "  </tbody>\n",
       "</table>\n",
       "</div>"
      ],
      "text/plain": [
       "   Profile_mean  Profile_stdev  Profile_skewness  Profile_kurtosis   DM_mean  \\\n",
       "0    140.562500      55.683782         -0.234571         -0.699648  3.199833   \n",
       "1    102.507812      58.882430          0.465318         -0.515088  1.677258   \n",
       "2    103.015625      39.341649          0.323328          1.051164  3.121237   \n",
       "3    136.750000      57.178449         -0.068415         -0.636238  3.642977   \n",
       "4     88.726562      40.672225          0.600866          1.123492  1.178930   \n",
       "\n",
       "    DM_stdev  DM_skewness  DM_kurtosis class  \n",
       "0  19.110426     7.975532    74.242225  b'0'  \n",
       "1  14.860146    10.576487   127.393580  b'0'  \n",
       "2  21.744669     7.735822    63.171909  b'0'  \n",
       "3  20.959280     6.896499    53.593661  b'0'  \n",
       "4  11.468720    14.269573   252.567306  b'0'  "
      ]
     },
     "execution_count": 23,
     "metadata": {},
     "output_type": "execute_result"
    }
   ],
   "source": [
    "# Kirjoita toteutuksesi tähän soluun. \n",
    "\n",
    "# Datan lataaminen.\n",
    "\n",
    "from scipy.io import arff\n",
    "\n",
    "import pandas as pd\n",
    "\n",
    "data = arff.loadarff('HTRU_2.arff')\n",
    "\n",
    "df = pd.DataFrame(data[0])\n",
    "\n",
    "#sarakkeiden nimeäminen\n",
    "df.columns=[\"Profile_mean\", \"Profile_stdev\", \"Profile_skewness\", \"Profile_kurtosis\", \"DM_mean\", \"DM_stdev\", \"DM_skewness\", \"DM_kurtosis\", \"class\"]\n",
    "\n",
    "df.head()"
   ]
  },
  {
   "cell_type": "code",
   "execution_count": 24,
   "metadata": {},
   "outputs": [
    {
     "data": {
      "text/html": [
       "<div>\n",
       "<style scoped>\n",
       "    .dataframe tbody tr th:only-of-type {\n",
       "        vertical-align: middle;\n",
       "    }\n",
       "\n",
       "    .dataframe tbody tr th {\n",
       "        vertical-align: top;\n",
       "    }\n",
       "\n",
       "    .dataframe thead th {\n",
       "        text-align: right;\n",
       "    }\n",
       "</style>\n",
       "<table border=\"1\" class=\"dataframe\">\n",
       "  <thead>\n",
       "    <tr style=\"text-align: right;\">\n",
       "      <th></th>\n",
       "      <th>Profile_mean</th>\n",
       "      <th>Profile_stdev</th>\n",
       "      <th>Profile_skewness</th>\n",
       "      <th>Profile_kurtosis</th>\n",
       "      <th>DM_mean</th>\n",
       "      <th>DM_stdev</th>\n",
       "      <th>DM_skewness</th>\n",
       "      <th>DM_kurtosis</th>\n",
       "      <th>class</th>\n",
       "    </tr>\n",
       "  </thead>\n",
       "  <tbody>\n",
       "    <tr>\n",
       "      <th>0</th>\n",
       "      <td>0.721342</td>\n",
       "      <td>0.417687</td>\n",
       "      <td>0.165043</td>\n",
       "      <td>0.015627</td>\n",
       "      <td>0.013382</td>\n",
       "      <td>0.113681</td>\n",
       "      <td>0.294986</td>\n",
       "      <td>0.063890</td>\n",
       "      <td>0.0</td>\n",
       "    </tr>\n",
       "    <tr>\n",
       "      <th>1</th>\n",
       "      <td>0.517628</td>\n",
       "      <td>0.460908</td>\n",
       "      <td>0.235415</td>\n",
       "      <td>0.018268</td>\n",
       "      <td>0.006560</td>\n",
       "      <td>0.072524</td>\n",
       "      <td>0.364015</td>\n",
       "      <td>0.108443</td>\n",
       "      <td>0.0</td>\n",
       "    </tr>\n",
       "    <tr>\n",
       "      <th>2</th>\n",
       "      <td>0.520346</td>\n",
       "      <td>0.196868</td>\n",
       "      <td>0.221138</td>\n",
       "      <td>0.040677</td>\n",
       "      <td>0.013030</td>\n",
       "      <td>0.139188</td>\n",
       "      <td>0.288624</td>\n",
       "      <td>0.054610</td>\n",
       "      <td>0.0</td>\n",
       "    </tr>\n",
       "    <tr>\n",
       "      <th>3</th>\n",
       "      <td>0.700933</td>\n",
       "      <td>0.437884</td>\n",
       "      <td>0.181750</td>\n",
       "      <td>0.016534</td>\n",
       "      <td>0.015368</td>\n",
       "      <td>0.131583</td>\n",
       "      <td>0.266348</td>\n",
       "      <td>0.046581</td>\n",
       "      <td>0.0</td>\n",
       "    </tr>\n",
       "    <tr>\n",
       "      <th>4</th>\n",
       "      <td>0.443854</td>\n",
       "      <td>0.214847</td>\n",
       "      <td>0.249044</td>\n",
       "      <td>0.041712</td>\n",
       "      <td>0.004327</td>\n",
       "      <td>0.039684</td>\n",
       "      <td>0.462029</td>\n",
       "      <td>0.213369</td>\n",
       "      <td>0.0</td>\n",
       "    </tr>\n",
       "  </tbody>\n",
       "</table>\n",
       "</div>"
      ],
      "text/plain": [
       "   Profile_mean  Profile_stdev  Profile_skewness  Profile_kurtosis   DM_mean  \\\n",
       "0      0.721342       0.417687          0.165043          0.015627  0.013382   \n",
       "1      0.517628       0.460908          0.235415          0.018268  0.006560   \n",
       "2      0.520346       0.196868          0.221138          0.040677  0.013030   \n",
       "3      0.700933       0.437884          0.181750          0.016534  0.015368   \n",
       "4      0.443854       0.214847          0.249044          0.041712  0.004327   \n",
       "\n",
       "   DM_stdev  DM_skewness  DM_kurtosis  class  \n",
       "0  0.113681     0.294986     0.063890    0.0  \n",
       "1  0.072524     0.364015     0.108443    0.0  \n",
       "2  0.139188     0.288624     0.054610    0.0  \n",
       "3  0.131583     0.266348     0.046581    0.0  \n",
       "4  0.039684     0.462029     0.213369    0.0  "
      ]
     },
     "execution_count": 24,
     "metadata": {},
     "output_type": "execute_result"
    }
   ],
   "source": [
    "# Kirjoita toteutuksesi tähän soluun. \n",
    "\n",
    "# Sarakkkeiden normalisointi. \n",
    "from sklearn.preprocessing import MinMaxScaler\n",
    "min_max_scaler = MinMaxScaler()\n",
    "df[[\"Profile_mean\", \"Profile_stdev\", \"Profile_skewness\", \"Profile_kurtosis\", \"DM_mean\", \"DM_stdev\", \"DM_skewness\", \"DM_kurtosis\", \"class\"]] = min_max_scaler.fit_transform(df[[\"Profile_mean\", \"Profile_stdev\", \"Profile_skewness\", \"Profile_kurtosis\", \"DM_mean\", \"DM_stdev\", \"DM_skewness\", \"DM_kurtosis\", \"class\"]])\n",
    "df.head()"
   ]
  },
  {
   "cell_type": "code",
   "execution_count": 25,
   "metadata": {
    "tags": [
     "answer_4_1"
    ]
   },
   "outputs": [
    {
     "name": "stdout",
     "output_type": "stream",
     "text": [
      "Columns: Index(['Profile_mean', 'Profile_stdev', 'Profile_skewness', 'Profile_kurtosis',\n",
      "       'DM_mean', 'DM_stdev', 'DM_skewness', 'DM_kurtosis', 'class'],\n",
      "      dtype='object')\n",
      "First row by position: Profile_mean        0.721342\n",
      "Profile_stdev       0.417687\n",
      "Profile_skewness    0.165043\n",
      "Profile_kurtosis    0.015627\n",
      "DM_mean             0.013382\n",
      "DM_stdev            0.113681\n",
      "DM_skewness         0.294986\n",
      "DM_kurtosis         0.063890\n",
      "class               0.000000\n",
      "Name: 0, dtype: float64\n"
     ]
    }
   ],
   "source": [
    "# Tehtävän vastaukset. Huom! Älä muokkaa tätä solua, vaan aja se, kun olet suorittanut tehtävän. \n",
    "# DataFramen tulisi olla df-muuttujassa. \n",
    "print(f'Columns: {df.columns}')\n",
    "print(f'First row by position: {df.iloc[0]}')"
   ]
  },
  {
   "cell_type": "markdown",
   "metadata": {},
   "source": [
    "## Tehtävä 2\n",
    "### Aihe: Koulutus- ja testausaineisto\n",
    "\n",
    "3 pistettä\n",
    "\n",
    "Jaa aineisto koulutus- ja testausaineistoon käyttäen `scikit-learn`-kirjaston [train_test_split](https://scikit-learn.org/stable/modules/generated/sklearn.model_selection.train_test_split.html)-funktiota. Laita puolet aineistosta kumpaankin. \n",
    "\n",
    "1. Tallenna koulutusaineisto ja sen luokkamuuttuja muuttujiin `X_train`, `y_train`,\n",
    "2. ja toisaalta testausaineiston `X_test`, `y_test`. \n",
    "\n",
    "Käytä satunnaissiemenenä lukua `1492` ja testiaieiston kokoe 33%."
   ]
  },
  {
   "cell_type": "code",
   "execution_count": 26,
   "metadata": {},
   "outputs": [],
   "source": [
    "# Kirjoita toteutuksesi tähän soluun. \n",
    "from sklearn.model_selection import train_test_split\n",
    "X=df.drop(\"class\", axis=1)\n",
    "y=df[\"class\"]\n",
    "X_train, X_test, y_train, y_test = train_test_split(X, y, test_size=0.33, random_state=1492)"
   ]
  },
  {
   "cell_type": "code",
   "execution_count": 27,
   "metadata": {
    "tags": [
     "answer_4_2"
    ]
   },
   "outputs": [
    {
     "name": "stdout",
     "output_type": "stream",
     "text": [
      "X_train: 11991\n",
      "X_test: 5907\n",
      "y_train: 11991\n",
      "y_test: 5907\n"
     ]
    }
   ],
   "source": [
    "# Tehtävän vastaukset. Huom! Älä muokkaa tätä solua, vaan aja se, kun olet suorittanut tehtävän. \n",
    "print(f'X_train: {len(X_train)}')\n",
    "print(f'X_test: {len(X_test)}')\n",
    "print(f'y_train: {len(y_train)}')\n",
    "print(f'y_test: {len(y_test)}')"
   ]
  },
  {
   "cell_type": "markdown",
   "metadata": {},
   "source": [
    "## Tehtävä 3\n",
    "### Aihe: Tukivektorikone\n",
    "\n",
    "4 pistettä\n",
    "\n",
    "1. Käytä `scikit-learn`-kirjaston *Linear Support Vector Classification* -funktiota kouluttaaksesi koulutusaineistollasi luokittelija, joka erottelee pulsarit muista kohteista. \n",
    "\n",
    "2. Luo ennusteet testausaineistosi datapisteille `y_pred`-muuttujaan. \n",
    "\n",
    "3. Tee `metrics`-moduulilla [luokitteluraportti](https://scikit-learn.org/stable/modules/generated/sklearn.metrics.classification_report.html) testausaineistosi ennusteille. Tallenna raportti `cr`-muuttujaan. Kannattaa myös tulostaa se, jotta näet itse tulokset. \n",
    "\n",
    "4. Tee `metrics`-moduulilla sekaannusmatriisi ja tallenna se `cm`-muuttujaan. "
   ]
  },
  {
   "cell_type": "code",
   "execution_count": 28,
   "metadata": {},
   "outputs": [
    {
     "data": {
      "text/plain": [
       "array([0., 0., 0., ..., 0., 1., 0.])"
      ]
     },
     "execution_count": 28,
     "metadata": {},
     "output_type": "execute_result"
    }
   ],
   "source": [
    "# Kirjoita toteutuksesi tähän soluun. \n",
    "from sklearn import svm\n",
    "clf = svm.SVC(kernel='linear') \n",
    "clf.fit(X_train, y_train)\n",
    "y_pred = clf.predict(X_test)\n",
    "y_pred"
   ]
  },
  {
   "cell_type": "code",
   "execution_count": 32,
   "metadata": {},
   "outputs": [
    {
     "data": {
      "text/plain": [
       "0.0    16259\n",
       "1.0     1639\n",
       "Name: class, dtype: int64"
      ]
     },
     "execution_count": 32,
     "metadata": {},
     "output_type": "execute_result"
    }
   ],
   "source": [
    "item_counts = df[\"class\"].value_counts(normalize=False)\n",
    "item_counts"
   ]
  },
  {
   "cell_type": "code",
   "execution_count": 33,
   "metadata": {},
   "outputs": [],
   "source": [
    "from sklearn.metrics import classification_report, confusion_matrix\n",
    "cm=confusion_matrix(y_test,y_pred)\n",
    "cr=classification_report(y_test,y_pred)"
   ]
  },
  {
   "cell_type": "code",
   "execution_count": 34,
   "metadata": {
    "tags": [
     "answer_4_3"
    ]
   },
   "outputs": [
    {
     "name": "stdout",
     "output_type": "stream",
     "text": [
      "Classification report:\n",
      "               precision    recall  f1-score   support\n",
      "\n",
      "         0.0       0.98      1.00      0.99      5367\n",
      "         1.0       0.96      0.75      0.84       540\n",
      "\n",
      "    accuracy                           0.97      5907\n",
      "   macro avg       0.97      0.88      0.91      5907\n",
      "weighted avg       0.97      0.97      0.97      5907\n",
      "\n",
      "Confusion matrix:\n",
      " [[5348   19]\n",
      " [ 133  407]]\n"
     ]
    }
   ],
   "source": [
    "# Tehtävän vastaukset. Huom! Älä muokkaa tätä solua, vaan aja se, kun olet suorittanut tehtävän. \n",
    "# Tulokset ovat cm- ja cr-muuttujissa. \n",
    "print(f'Classification report:\\n {cr}')\n",
    "print(f'Confusion matrix:\\n {cm}')"
   ]
  },
  {
   "cell_type": "code",
   "execution_count": null,
   "metadata": {},
   "outputs": [],
   "source": []
  }
 ],
 "metadata": {
  "kernelspec": {
   "display_name": "Python 3",
   "language": "python",
   "name": "python3"
  },
  "language_info": {
   "codemirror_mode": {
    "name": "ipython",
    "version": 3
   },
   "file_extension": ".py",
   "mimetype": "text/x-python",
   "name": "python",
   "nbconvert_exporter": "python",
   "pygments_lexer": "ipython3",
   "version": "3.7.3"
  }
 },
 "nbformat": 4,
 "nbformat_minor": 4
}
