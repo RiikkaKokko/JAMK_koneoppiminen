{
 "cells": [
  {
   "cell_type": "markdown",
   "metadata": {},
   "source": [
    "# Koneoppiminen: Osa 1: k lähintä naapuria\n",
    "\n",
    "## Tehtävä 0: LÄHETÄ REPOSITORIOSI OSOITE OPETTAJALLE\n",
    "\n",
    "Lähetä repositoriosi osoite opettajalle. Aseta opettajalle myös pääsy repositorioon vähintään Reporter-tasolle. \n",
    "\n",
    "Muista myös kirjoittaa tietosi alla olevaan soluun."
   ]
  },
  {
   "cell_type": "code",
   "execution_count": 2,
   "metadata": {
    "tags": [
     "student_info"
    ]
   },
   "outputs": [],
   "source": [
    "# Kirjoita tähän tietosi!\n",
    "student_name = 'Riikka Kokko'\n",
    "student_id = 'AA9067'"
   ]
  },
  {
   "cell_type": "markdown",
   "metadata": {},
   "source": [
    "## Tehtävä 1\n",
    "\n",
    "1 piste\n",
    "\n",
    "Lämmittelytehtävä. \n",
    "\n",
    "Luo muuttuja nimeltä `foobar` ja aseta muuttujan arvoksi totuusarvo `True`, mikäli aiot suorittaa tämän koneoppimista käsittelevän opintojakson. \n",
    "\n",
    "Kirjoita vastuaksesi alla olevaan soluun, jossa lukee \"Kirjoita toteutuksesi tähän soluun.\" Muista myös ajaa tämä solu. \n",
    "\n",
    "Aja tarkastussolu, jossa lukee \"Tehtävän vastaukset.\"."
   ]
  },
  {
   "cell_type": "code",
   "execution_count": 3,
   "metadata": {},
   "outputs": [],
   "source": [
    "# Kirjoita toteutuksesi tähän soluun.\n",
    "foobar=True"
   ]
  },
  {
   "cell_type": "code",
   "execution_count": 4,
   "metadata": {
    "scrolled": true,
    "tags": [
     "answer_1_1"
    ]
   },
   "outputs": [
    {
     "name": "stdout",
     "output_type": "stream",
     "text": [
      "Jatkaa: True\n"
     ]
    }
   ],
   "source": [
    "# Tehtävän vastaukset. Huom! Älä muokkaa tätä solua, vaan aja se, kun olet suorittanut tehtävän. \n",
    "if 'foobar' in locals():\n",
    "    if foobar is True:\n",
    "        print(f'Jatkaa: {foobar}')\n",
    "    else:\n",
    "        print(f'Ei jatka: {foobar}')\n",
    "else:\n",
    "    print('Ei vastausta.')"
   ]
  },
  {
   "cell_type": "markdown",
   "metadata": {},
   "source": [
    "## Tehtävä 2\n",
    "\n",
    "### Aihe: Datan esikäsittely\n",
    "\n",
    "3 pistettä\n",
    "\n",
    "1. Tutustu aineistoon *Congressional Voting Records Data Set* osoitteessa https://archive.ics.uci.edu/ml/datasets/Congressional+Voting+Records .\n",
    "\n",
    "2. Lataa aineisto osoitteesta https://archive.ics.uci.edu/ml/machine-learning-databases/voting-records/ . Tallenna datatiedosto samaan hakemistoon, jossa tämä Jupyter Notebook -tiedosto sijaitsee. \n",
    "\n",
    "3. Lataa aineisto Pandasin DataFrame-luokan muuttujaan. Aseta myös sarakkeet aineiston dokumentaation \"Attribute Information\" -osion mukaisesti. Nimeä luokkamuuttuja (puoluesarake) nimikkeellä 'party'.\n",
    "\n",
    "4. Esikäsittele aineisto:\n",
    "  * Muuta y- ja n-vastaukset numeerisiksi arvoiksi. (Vinkki: yes=1, no=-1.)\n",
    "  * Korvaa myös kysymysmerkein merkityt \"ei vastausta\" -arvot. (Vinkki: 0) "
   ]
  },
  {
   "cell_type": "code",
   "execution_count": 5,
   "metadata": {},
   "outputs": [],
   "source": [
    "# Kirjoita toteutuksesi tähän soluun. Tallenna vastauksesi df-muuttujaan.\n",
    "\n",
    "# Aineisto ladataan.\n",
    "\n",
    "# Sarakkeiden nimeäminen.\n",
    "\n",
    "# Arvojen muuttaminen numeerisiksi.\n",
    "\n",
    "# Tyhjien kenttien korvaaminen.\n"
   ]
  },
  {
   "cell_type": "code",
   "execution_count": 6,
   "metadata": {},
   "outputs": [
    {
     "data": {
      "text/html": [
       "<div>\n",
       "<style scoped>\n",
       "    .dataframe tbody tr th:only-of-type {\n",
       "        vertical-align: middle;\n",
       "    }\n",
       "\n",
       "    .dataframe tbody tr th {\n",
       "        vertical-align: top;\n",
       "    }\n",
       "\n",
       "    .dataframe thead th {\n",
       "        text-align: right;\n",
       "    }\n",
       "</style>\n",
       "<table border=\"1\" class=\"dataframe\">\n",
       "  <thead>\n",
       "    <tr style=\"text-align: right;\">\n",
       "      <th></th>\n",
       "      <th>party</th>\n",
       "      <th>handicapped-infants</th>\n",
       "      <th>water-project-cost-sharing</th>\n",
       "      <th>adoption-of-the-budget-resolution</th>\n",
       "      <th>physician-fee-freeze</th>\n",
       "      <th>el-salvador-aid</th>\n",
       "      <th>religious-groups-in-schools</th>\n",
       "      <th>anti-satellite-test-ban</th>\n",
       "      <th>aid-to-nicaraguan-contras</th>\n",
       "      <th>mx-missile</th>\n",
       "      <th>immigration</th>\n",
       "      <th>synfuels-corporation-cutback</th>\n",
       "      <th>education-spending</th>\n",
       "      <th>superfund-right-to-sue</th>\n",
       "      <th>crime</th>\n",
       "      <th>duty-free-exports</th>\n",
       "      <th>export-administration-act-south-africa</th>\n",
       "    </tr>\n",
       "  </thead>\n",
       "  <tbody>\n",
       "    <tr>\n",
       "      <th>0</th>\n",
       "      <td>republican</td>\n",
       "      <td>-1</td>\n",
       "      <td>1</td>\n",
       "      <td>-1</td>\n",
       "      <td>1</td>\n",
       "      <td>1</td>\n",
       "      <td>1</td>\n",
       "      <td>-1</td>\n",
       "      <td>-1</td>\n",
       "      <td>-1</td>\n",
       "      <td>-1</td>\n",
       "      <td>-1</td>\n",
       "      <td>1</td>\n",
       "      <td>1</td>\n",
       "      <td>1</td>\n",
       "      <td>-1</td>\n",
       "      <td>0</td>\n",
       "    </tr>\n",
       "    <tr>\n",
       "      <th>1</th>\n",
       "      <td>democrat</td>\n",
       "      <td>0</td>\n",
       "      <td>1</td>\n",
       "      <td>1</td>\n",
       "      <td>0</td>\n",
       "      <td>1</td>\n",
       "      <td>1</td>\n",
       "      <td>-1</td>\n",
       "      <td>-1</td>\n",
       "      <td>-1</td>\n",
       "      <td>-1</td>\n",
       "      <td>1</td>\n",
       "      <td>-1</td>\n",
       "      <td>1</td>\n",
       "      <td>1</td>\n",
       "      <td>-1</td>\n",
       "      <td>-1</td>\n",
       "    </tr>\n",
       "    <tr>\n",
       "      <th>2</th>\n",
       "      <td>democrat</td>\n",
       "      <td>-1</td>\n",
       "      <td>1</td>\n",
       "      <td>1</td>\n",
       "      <td>-1</td>\n",
       "      <td>0</td>\n",
       "      <td>1</td>\n",
       "      <td>-1</td>\n",
       "      <td>-1</td>\n",
       "      <td>-1</td>\n",
       "      <td>-1</td>\n",
       "      <td>1</td>\n",
       "      <td>-1</td>\n",
       "      <td>1</td>\n",
       "      <td>-1</td>\n",
       "      <td>-1</td>\n",
       "      <td>1</td>\n",
       "    </tr>\n",
       "    <tr>\n",
       "      <th>3</th>\n",
       "      <td>democrat</td>\n",
       "      <td>1</td>\n",
       "      <td>1</td>\n",
       "      <td>1</td>\n",
       "      <td>-1</td>\n",
       "      <td>1</td>\n",
       "      <td>1</td>\n",
       "      <td>-1</td>\n",
       "      <td>-1</td>\n",
       "      <td>-1</td>\n",
       "      <td>-1</td>\n",
       "      <td>1</td>\n",
       "      <td>0</td>\n",
       "      <td>1</td>\n",
       "      <td>1</td>\n",
       "      <td>1</td>\n",
       "      <td>1</td>\n",
       "    </tr>\n",
       "    <tr>\n",
       "      <th>4</th>\n",
       "      <td>democrat</td>\n",
       "      <td>-1</td>\n",
       "      <td>1</td>\n",
       "      <td>1</td>\n",
       "      <td>-1</td>\n",
       "      <td>1</td>\n",
       "      <td>1</td>\n",
       "      <td>-1</td>\n",
       "      <td>-1</td>\n",
       "      <td>-1</td>\n",
       "      <td>-1</td>\n",
       "      <td>-1</td>\n",
       "      <td>-1</td>\n",
       "      <td>1</td>\n",
       "      <td>1</td>\n",
       "      <td>1</td>\n",
       "      <td>1</td>\n",
       "    </tr>\n",
       "  </tbody>\n",
       "</table>\n",
       "</div>"
      ],
      "text/plain": [
       "        party  handicapped-infants  water-project-cost-sharing  \\\n",
       "0  republican                   -1                           1   \n",
       "1    democrat                    0                           1   \n",
       "2    democrat                   -1                           1   \n",
       "3    democrat                    1                           1   \n",
       "4    democrat                   -1                           1   \n",
       "\n",
       "   adoption-of-the-budget-resolution  physician-fee-freeze  el-salvador-aid  \\\n",
       "0                                 -1                     1                1   \n",
       "1                                  1                     0                1   \n",
       "2                                  1                    -1                0   \n",
       "3                                  1                    -1                1   \n",
       "4                                  1                    -1                1   \n",
       "\n",
       "   religious-groups-in-schools  anti-satellite-test-ban  \\\n",
       "0                            1                       -1   \n",
       "1                            1                       -1   \n",
       "2                            1                       -1   \n",
       "3                            1                       -1   \n",
       "4                            1                       -1   \n",
       "\n",
       "   aid-to-nicaraguan-contras  mx-missile  immigration  \\\n",
       "0                         -1          -1           -1   \n",
       "1                         -1          -1           -1   \n",
       "2                         -1          -1           -1   \n",
       "3                         -1          -1           -1   \n",
       "4                         -1          -1           -1   \n",
       "\n",
       "   synfuels-corporation-cutback  education-spending  superfund-right-to-sue  \\\n",
       "0                            -1                   1                       1   \n",
       "1                             1                  -1                       1   \n",
       "2                             1                  -1                       1   \n",
       "3                             1                   0                       1   \n",
       "4                            -1                  -1                       1   \n",
       "\n",
       "   crime  duty-free-exports  export-administration-act-south-africa  \n",
       "0      1                 -1                                       0  \n",
       "1      1                 -1                                      -1  \n",
       "2     -1                 -1                                       1  \n",
       "3      1                  1                                       1  \n",
       "4      1                  1                                       1  "
      ]
     },
     "execution_count": 6,
     "metadata": {},
     "output_type": "execute_result"
    }
   ],
   "source": [
    "import pandas as pd\n",
    "import numpy as np\n",
    "# Kirjoita toteutuksesi tähän soluun. Tallenna vastauksesi df-muuttujaan.\n",
    "# Aineisto ladataan.\n",
    "# Sarakkeiden nimeäminen.\n",
    "#df=pd.read_csv(\"house-votes-84.data\", sep=\",\",names=[\"party\", \"handicapped-infants\", \"water-project-cost-sharing\", \"adoption-of-the-budget-resolution\", \"physician-fee-freeze\", \"el-salvador-aid\", \"religious-groups-in-schools\", \"anti-satellite-test-ban\", \"aid-to-nicaraguan-contras\", \"mx-missile\", \"immigration\", \"synfuels-corporation-cutback\", \"education-spending\", \"superfund-right-to-sue\", \"crime\", \"duty-free-exports\", \"export-administration-act-south-africa\"])\n",
    "df=pd.read_csv(\"house-votes-84.data\", sep=\",\")\n",
    "df.columns =[\"party\", \"handicapped-infants\", \"water-project-cost-sharing\", \"adoption-of-the-budget-resolution\", \"physician-fee-freeze\", \"el-salvador-aid\", \"religious-groups-in-schools\", \"anti-satellite-test-ban\", \"aid-to-nicaraguan-contras\", \"mx-missile\", \"immigration\", \"synfuels-corporation-cutback\", \"education-spending\", \"superfund-right-to-sue\", \"crime\", \"duty-free-exports\", \"export-administration-act-south-africa\"]\n",
    "#df.head()\n",
    "# Arvojen muuttaminen numeerisiksi.\n",
    "# Tyhjien kenttien korvaaminen.\n",
    "df = df.replace(['y'],1)\n",
    "df = df.replace(['n'],-1)\n",
    "df = df.replace(['?'],0)\n",
    "df.head()"
   ]
  },
  {
   "cell_type": "code",
   "execution_count": 7,
   "metadata": {},
   "outputs": [
    {
     "name": "stdout",
     "output_type": "stream",
     "text": [
      "party\n",
      "handicapped-infants\n",
      "water-project-cost-sharing\n",
      "adoption-of-the-budget-resolution\n",
      "physician-fee-freeze\n",
      "el-salvador-aid\n",
      "religious-groups-in-schools\n",
      "anti-satellite-test-ban\n",
      "aid-to-nicaraguan-contras\n",
      "mx-missile\n",
      "immigration\n",
      "synfuels-corporation-cutback\n",
      "education-spending\n",
      "superfund-right-to-sue\n",
      "crime\n",
      "duty-free-exports\n",
      "export-administration-act-south-africa\n"
     ]
    }
   ],
   "source": [
    "for col in df.columns:\n",
    "    print(col)"
   ]
  },
  {
   "cell_type": "code",
   "execution_count": 8,
   "metadata": {
    "tags": [
     "answer_1_2"
    ]
   },
   "outputs": [
    {
     "name": "stdout",
     "output_type": "stream",
     "text": [
      "Columns: Index(['party', 'handicapped-infants', 'water-project-cost-sharing',\n",
      "       'adoption-of-the-budget-resolution', 'physician-fee-freeze',\n",
      "       'el-salvador-aid', 'religious-groups-in-schools',\n",
      "       'anti-satellite-test-ban', 'aid-to-nicaraguan-contras', 'mx-missile',\n",
      "       'immigration', 'synfuels-corporation-cutback', 'education-spending',\n",
      "       'superfund-right-to-sue', 'crime', 'duty-free-exports',\n",
      "       'export-administration-act-south-africa'],\n",
      "      dtype='object')\n",
      "First row by position: party                                     republican\n",
      "handicapped-infants                               -1\n",
      "water-project-cost-sharing                         1\n",
      "adoption-of-the-budget-resolution                 -1\n",
      "physician-fee-freeze                               1\n",
      "el-salvador-aid                                    1\n",
      "religious-groups-in-schools                        1\n",
      "anti-satellite-test-ban                           -1\n",
      "aid-to-nicaraguan-contras                         -1\n",
      "mx-missile                                        -1\n",
      "immigration                                       -1\n",
      "synfuels-corporation-cutback                      -1\n",
      "education-spending                                 1\n",
      "superfund-right-to-sue                             1\n",
      "crime                                              1\n",
      "duty-free-exports                                 -1\n",
      "export-administration-act-south-africa             0\n",
      "Name: 0, dtype: object\n",
      "anti-satellite-test-ban unique values: [-1  1  0]\n",
      "export-administration-act-south-africa unique values: [ 0 -1  1]\n"
     ]
    }
   ],
   "source": [
    "# Tehtävän vastaukset. Huom! Älä muokkaa tätä solua, vaan aja se, kun olet suorittanut tehtävän. \n",
    "# Tallenna DataFrame df-muuttujaan.\n",
    "print(f'Columns: {df.columns}')\n",
    "print(f'First row by position: {df.iloc[0]}')\n",
    "print(f'anti-satellite-test-ban unique values: {df[\"anti-satellite-test-ban\"].unique()}')\n",
    "print(f'export-administration-act-south-africa unique values: {df[\"export-administration-act-south-africa\"].unique()}')"
   ]
  },
  {
   "cell_type": "markdown",
   "metadata": {},
   "source": [
    "## Tehtävä 3\n",
    "\n",
    "### Aihe: Datan visualisointi\n",
    "\n",
    "3 pistettä\n",
    "\n",
    "Huomaatko eroa eri puolueiden äänestyskäyttäytymisessä?\n",
    "\n",
    "Hyödynnä edellisen tehtävän DataFramea. Piirrä aineistosta heatmap, jossa näkyvät ensin republikaanit ja sitten demokraatit allekkain. Kongressiedustajat ovat siis rivejä ja lakikysymykset sarakkeina. \n",
    "\n",
    "Muista, että selkeään esitystapaan kuuluvat myös nimetyt akselit ja kuvaajan otsikko. \n",
    "\n",
    "Vinkki: voit käyttää esimerkiksi `seaborn`-kirjaston [heatmap-kuvaajaa](https://seaborn.pydata.org/generated/seaborn.heatmap.html).\n",
    "\n",
    "Vinkki: voi olla järkevää pudottaa luokkamuuttuja pois tätä kuvaa varten (ks. `df.drop()`).\n",
    "\n",
    "Vinkki: väriasteikon saa nimettyä heatmapin parametrilla `cbar_kws={'label': 'kirjoita oma'}`."
   ]
  },
  {
   "cell_type": "code",
   "execution_count": 9,
   "metadata": {},
   "outputs": [],
   "source": [
    "# Kirjoita toteutuksesi tähän soluun. \n",
    "\n",
    "# Järjestä rivit.\n",
    "\n",
    "# Piirrä heatmap.\n"
   ]
  },
  {
   "cell_type": "code",
   "execution_count": 58,
   "metadata": {},
   "outputs": [
    {
     "data": {
      "text/plain": [
       "<matplotlib.collections.LineCollection at 0x1d0d8bb2cc0>"
      ]
     },
     "execution_count": 58,
     "metadata": {},
     "output_type": "execute_result"
    },
    {
     "data": {
      "image/png": "[encoded data removed]",
      "text/plain": [
       "<Figure size 432x288 with 2 Axes>"
      ]
     },
     "metadata": {
      "needs_background": "light"
     },
     "output_type": "display_data"
    }
   ],
   "source": [
    "# Kirjoita toteutuksesi tähän soluun. \n",
    "import seaborn as sns\n",
    "\n",
    "# Järjestä rivit.\n",
    "df_sorted=df.sort_values('party')\n",
    "df_sorted=df_sorted.reset_index(drop=True)\n",
    "parties=df_sorted.party.copy()\n",
    "new_party_idx=np.where(parties[:-1] != parties.tolist()[1:])[0]\n",
    "df_sorted=df_sorted.drop('party', axis=1)\n",
    "# Piirrä heatmap.\n",
    "ax = sns.heatmap(df_sorted, robust=True, cmap='Blues')\n",
    "ax.hlines(new_party_idx, *ax.get_xlim(),color='red')"
   ]
  },
  {
   "cell_type": "code",
   "execution_count": 12,
   "metadata": {},
   "outputs": [
    {
     "data": {
      "text/plain": [
       "0        democrat\n",
       "1        democrat\n",
       "2        democrat\n",
       "3        democrat\n",
       "4        democrat\n",
       "          ...    \n",
       "429    republican\n",
       "430    republican\n",
       "431    republican\n",
       "432    republican\n",
       "433    republican\n",
       "Name: party, Length: 434, dtype: object"
      ]
     },
     "execution_count": 12,
     "metadata": {},
     "output_type": "execute_result"
    }
   ],
   "source": [
    "#Kuvaajassa punaisen viivan yläpuolella on \"democrat\" ja punaisen viivan alapuolella oon \"republican\"\n",
    "parties"
   ]
  },
  {
   "cell_type": "code",
   "execution_count": 14,
   "metadata": {
    "tags": [
     "answer_1_3"
    ]
   },
   "outputs": [
    {
     "data": {
      "image/png": "[encoded data removed]",
      "text/plain": [
       "<Figure size 432x288 with 2 Axes>"
      ]
     },
     "execution_count": 14,
     "metadata": {},
     "output_type": "execute_result"
    }
   ],
   "source": [
    "# Tehtävän vastaukset. Huom! Älä muokkaa tätä solua, vaan aja se, kun olet suorittanut tehtävän. \n",
    "# Tee vastauksesi siten, että tämän solun tuloksena näkyy alla kaaviokuva. Tallenna kuva muuttujaan ax siten, että ax.figure näyttää sen alla.\n",
    "ax.figure"
   ]
  },
  {
   "cell_type": "markdown",
   "metadata": {},
   "source": [
    "## Tehtävä 4\n",
    "\n",
    "### Aihe: kNN-luokittelija\n",
    "\n",
    "3 pistettä\n",
    "\n",
    "Käytä scikit-learn-kirjaston [kNN-luokittelijaa](https://scikit-learn.org/stable/modules/generated/sklearn.neighbors.KNeighborsClassifier.html) löytääksesi aineistosta kongressiedustaja, joka on lähinnä henkilöä, joka vastaisi y-vastauksella kaikkiin lakikysymyksiin. \n",
    "\n",
    "Muista pudottaa luokkamuuttuja pois.\n",
    "\n",
    "1. Tallenna löydetystä kongressiedustajasta seuraavat tiedot: \n",
    "  * mitä puoluetta lähinnä hän on: `yes_man_party`\n",
    "  * millä todennäköisyydellä: `yes_man_proba`\n",
    "  \n",
    "2. Tee sama myös henkilölle, joka vastaisi lakikysymyksiin seuraavasti: y,y,y,n,n,n,n,y,y,y,n,n,n,n,y,y. Tallenna vastaukset vastaaviin muuttujiin `mystery_man_row` ja `mystery_man_party`. \n",
    "\n",
    "Vinkki: kun luot kaikkiin y-vastauksella vastanneen henkilön vektorin, tulee se olla lista listoista: esim. jos muuttujia olisi neljä, `[[1,1,1,1...,1]]` (muuttujiahan meillä tässä on enemmän, joten vastauksessa vektori on pidempi).\n",
    "\n",
    "Vinkki: muista pudottaa luokkamuuttuja pois kouluttaessasi luokittelijaa."
   ]
  },
  {
   "cell_type": "code",
   "execution_count": 47,
   "metadata": {},
   "outputs": [
    {
     "data": {
      "text/plain": [
       "KNeighborsClassifier(n_neighbors=3)"
      ]
     },
     "execution_count": 47,
     "metadata": {},
     "output_type": "execute_result"
    }
   ],
   "source": [
    "X=df.drop('party', axis = 1)\n",
    "y = df['party']\n",
    "from sklearn.neighbors import KNeighborsClassifier\n",
    "neigh = KNeighborsClassifier(n_neighbors=3)\n",
    "neigh.fit(X, y)"
   ]
  },
  {
   "cell_type": "code",
   "execution_count": 48,
   "metadata": {},
   "outputs": [
    {
     "data": {
      "text/plain": [
       "array(['republican'], dtype=object)"
      ]
     },
     "execution_count": 48,
     "metadata": {},
     "output_type": "execute_result"
    }
   ],
   "source": [
    "yes= [[1,1,1,1,1,1,1,1,1,1,1,1,1,1,1,1]]\n",
    "yes_man_party=neigh.predict(rows)\n",
    "yes_man_party"
   ]
  },
  {
   "cell_type": "code",
   "execution_count": 49,
   "metadata": {},
   "outputs": [
    {
     "data": {
      "text/plain": [
       "array([[0.33333333, 0.66666667]])"
      ]
     },
     "execution_count": 49,
     "metadata": {},
     "output_type": "execute_result"
    }
   ],
   "source": [
    "yes_man_proba=neigh.predict_proba(yes)\n",
    "yes_man_proba"
   ]
  },
  {
   "cell_type": "code",
   "execution_count": 50,
   "metadata": {},
   "outputs": [
    {
     "data": {
      "text/plain": [
       "array(['democrat'], dtype=object)"
      ]
     },
     "execution_count": 50,
     "metadata": {},
     "output_type": "execute_result"
    }
   ],
   "source": [
    "mystery_man= [[1,1,1,-1,-1,-1,-1,1,1,1,-1,-1,-1,-1,1,1]]\n",
    "mystery_man_party=neigh.predict(mystery_man)\n",
    "mystery_man_party"
   ]
  },
  {
   "cell_type": "code",
   "execution_count": 51,
   "metadata": {},
   "outputs": [
    {
     "data": {
      "text/plain": [
       "array([[1., 0.]])"
      ]
     },
     "execution_count": 51,
     "metadata": {},
     "output_type": "execute_result"
    }
   ],
   "source": [
    "mystery_man_proba=neigh.predict_proba(mystery_man)\n",
    "mystery_man_proba"
   ]
  },
  {
   "cell_type": "code",
   "execution_count": 52,
   "metadata": {
    "tags": [
     "answer_1_4"
    ]
   },
   "outputs": [
    {
     "name": "stdout",
     "output_type": "stream",
     "text": [
      "['republican']\n",
      "[[0.33333333 0.66666667]]\n",
      "['democrat']\n",
      "[[1. 0.]]\n"
     ]
    }
   ],
   "source": [
    "# Tehtävän vastaukset. Huom! Älä muokkaa tätä solua, vaan aja se, kun olet suorittanut tehtävän. \n",
    "# Tallenna näiden kahden kongressiedustajan tiedot mainittuihin muuttujiin.\n",
    "print(yes_man_party)\n",
    "print(yes_man_proba)\n",
    "print(mystery_man_party)\n",
    "print(mystery_man_proba)"
   ]
  }
 ],
 "metadata": {
  "kernelspec": {
   "display_name": "Python 3",
   "language": "python",
   "name": "python3"
  },
  "language_info": {
   "codemirror_mode": {
    "name": "ipython",
    "version": 3
   },
   "file_extension": ".py",
   "mimetype": "text/x-python",
   "name": "python",
   "nbconvert_exporter": "python",
   "pygments_lexer": "ipython3",
   "version": "3.7.3"
  }
 },
 "nbformat": 4,
 "nbformat_minor": 4
}
