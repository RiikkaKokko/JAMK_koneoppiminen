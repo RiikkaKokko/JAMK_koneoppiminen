{
 "cells": [
  {
   "cell_type": "markdown",
   "metadata": {},
   "source": [
    "# Koneoppiminen: Osa 1: k lähintä naapuria\n",
    "\n",
    "## Tehtävä 0: LÄHETÄ REPOSITORIOSI OSOITE OPETTAJALLE\n",
    "\n",
    "Lähetä repositoriosi osoite opettajalle. Aseta opettajalle myös pääsy repositorioon vähintään Reporter-tasolle. \n",
    "\n",
    "Muista myös kirjoittaa tietosi alla olevaan soluun."
   ]
  },
  {
   "cell_type": "code",
   "execution_count": 25,
   "metadata": {
    "tags": [
     "student_info"
    ]
   },
   "outputs": [],
   "source": [
    "# Kirjoita tähän tietosi!\n",
    "student_name = 'Riikka Kokko'\n",
    "student_id = 'AA9067'"
   ]
  },
  {
   "cell_type": "markdown",
   "metadata": {},
   "source": [
    "## Tehtävä 1\n",
    "\n",
    "1 piste\n",
    "\n",
    "Lämmittelytehtävä. \n",
    "\n",
    "Luo muuttuja nimeltä `foobar` ja aseta muuttujan arvoksi totuusarvo `True`, mikäli aiot suorittaa tämän koneoppimista käsittelevän opintojakson. \n",
    "\n",
    "Kirjoita vastuaksesi alla olevaan soluun, jossa lukee \"Kirjoita toteutuksesi tähän soluun.\" Muista myös ajaa tämä solu. \n",
    "\n",
    "Aja tarkastussolu, jossa lukee \"Tehtävän vastaukset.\"."
   ]
  },
  {
   "cell_type": "code",
   "execution_count": 26,
   "metadata": {},
   "outputs": [],
   "source": [
    "# Kirjoita toteutuksesi tähän soluun.\n",
    "foobar=True"
   ]
  },
  {
   "cell_type": "code",
   "execution_count": 27,
   "metadata": {
    "scrolled": true,
    "tags": [
     "answer_1_1"
    ]
   },
   "outputs": [
    {
     "name": "stdout",
     "output_type": "stream",
     "text": [
      "Jatkaa: True\n"
     ]
    }
   ],
   "source": [
    "# Tehtävän vastaukset. Huom! Älä muokkaa tätä solua, vaan aja se, kun olet suorittanut tehtävän. \n",
    "if 'foobar' in locals():\n",
    "    if foobar is True:\n",
    "        print(f'Jatkaa: {foobar}')\n",
    "    else:\n",
    "        print(f'Ei jatka: {foobar}')\n",
    "else:\n",
    "    print('Ei vastausta.')"
   ]
  },
  {
   "cell_type": "markdown",
   "metadata": {},
   "source": [
    "## Tehtävä 2\n",
    "\n",
    "### Aihe: Datan esikäsittely\n",
    "\n",
    "3 pistettä\n",
    "\n",
    "1. Tutustu aineistoon *Congressional Voting Records Data Set* osoitteessa https://archive.ics.uci.edu/ml/datasets/Congressional+Voting+Records .\n",
    "\n",
    "2. Lataa aineisto osoitteesta https://archive.ics.uci.edu/ml/machine-learning-databases/voting-records/ . Tallenna datatiedosto samaan hakemistoon, jossa tämä Jupyter Notebook -tiedosto sijaitsee. \n",
    "\n",
    "3. Lataa aineisto Pandasin DataFrame-luokan muuttujaan. Aseta myös sarakkeet aineiston dokumentaation \"Attribute Information\" -osion mukaisesti. Nimeä luokkamuuttuja (puoluesarake) nimikkeellä 'party'.\n",
    "\n",
    "4. Esikäsittele aineisto:\n",
    "  * Muuta y- ja n-vastaukset numeerisiksi arvoiksi. (Vinkki: yes=1, no=-1.)\n",
    "  * Korvaa myös kysymysmerkein merkityt \"ei vastausta\" -arvot. (Vinkki: 0) "
   ]
  },
  {
   "cell_type": "code",
   "execution_count": 28,
   "metadata": {},
   "outputs": [],
   "source": [
    "# Kirjoita toteutuksesi tähän soluun. Tallenna vastauksesi df-muuttujaan.\n",
    "\n",
    "# Aineisto ladataan.\n",
    "\n",
    "# Sarakkeiden nimeäminen.\n",
    "\n",
    "# Arvojen muuttaminen numeerisiksi.\n",
    "\n",
    "# Tyhjien kenttien korvaaminen.\n"
   ]
  },
  {
   "cell_type": "code",
   "execution_count": 1,
   "metadata": {},
   "outputs": [
    {
     "data": {
      "text/html": [
       "<div>\n",
       "<style scoped>\n",
       "    .dataframe tbody tr th:only-of-type {\n",
       "        vertical-align: middle;\n",
       "    }\n",
       "\n",
       "    .dataframe tbody tr th {\n",
       "        vertical-align: top;\n",
       "    }\n",
       "\n",
       "    .dataframe thead th {\n",
       "        text-align: right;\n",
       "    }\n",
       "</style>\n",
       "<table border=\"1\" class=\"dataframe\">\n",
       "  <thead>\n",
       "    <tr style=\"text-align: right;\">\n",
       "      <th></th>\n",
       "      <th>party</th>\n",
       "      <th>handicapped-infants</th>\n",
       "      <th>water-project-cost-sharing</th>\n",
       "      <th>adoption-of-the-budget-resolution</th>\n",
       "      <th>physician-fee-freeze</th>\n",
       "      <th>el-salvador-aid</th>\n",
       "      <th>religious-groups-in-schools</th>\n",
       "      <th>anti-satellite-test-ban</th>\n",
       "      <th>aid-to-nicaraguan-contras</th>\n",
       "      <th>mx-missile</th>\n",
       "      <th>immigration</th>\n",
       "      <th>synfuels-corporation-cutback</th>\n",
       "      <th>education-spending</th>\n",
       "      <th>superfund-right-to-sue</th>\n",
       "      <th>crime</th>\n",
       "      <th>duty-free-exports</th>\n",
       "      <th>export-administration-act-south-africa</th>\n",
       "    </tr>\n",
       "  </thead>\n",
       "  <tbody>\n",
       "    <tr>\n",
       "      <th>0</th>\n",
       "      <td>republican</td>\n",
       "      <td>-1</td>\n",
       "      <td>1</td>\n",
       "      <td>-1</td>\n",
       "      <td>1</td>\n",
       "      <td>1</td>\n",
       "      <td>1</td>\n",
       "      <td>-1</td>\n",
       "      <td>-1</td>\n",
       "      <td>-1</td>\n",
       "      <td>-1</td>\n",
       "      <td>-1</td>\n",
       "      <td>1</td>\n",
       "      <td>1</td>\n",
       "      <td>1</td>\n",
       "      <td>-1</td>\n",
       "      <td>0</td>\n",
       "    </tr>\n",
       "    <tr>\n",
       "      <th>1</th>\n",
       "      <td>democrat</td>\n",
       "      <td>0</td>\n",
       "      <td>1</td>\n",
       "      <td>1</td>\n",
       "      <td>0</td>\n",
       "      <td>1</td>\n",
       "      <td>1</td>\n",
       "      <td>-1</td>\n",
       "      <td>-1</td>\n",
       "      <td>-1</td>\n",
       "      <td>-1</td>\n",
       "      <td>1</td>\n",
       "      <td>-1</td>\n",
       "      <td>1</td>\n",
       "      <td>1</td>\n",
       "      <td>-1</td>\n",
       "      <td>-1</td>\n",
       "    </tr>\n",
       "    <tr>\n",
       "      <th>2</th>\n",
       "      <td>democrat</td>\n",
       "      <td>-1</td>\n",
       "      <td>1</td>\n",
       "      <td>1</td>\n",
       "      <td>-1</td>\n",
       "      <td>0</td>\n",
       "      <td>1</td>\n",
       "      <td>-1</td>\n",
       "      <td>-1</td>\n",
       "      <td>-1</td>\n",
       "      <td>-1</td>\n",
       "      <td>1</td>\n",
       "      <td>-1</td>\n",
       "      <td>1</td>\n",
       "      <td>-1</td>\n",
       "      <td>-1</td>\n",
       "      <td>1</td>\n",
       "    </tr>\n",
       "    <tr>\n",
       "      <th>3</th>\n",
       "      <td>democrat</td>\n",
       "      <td>1</td>\n",
       "      <td>1</td>\n",
       "      <td>1</td>\n",
       "      <td>-1</td>\n",
       "      <td>1</td>\n",
       "      <td>1</td>\n",
       "      <td>-1</td>\n",
       "      <td>-1</td>\n",
       "      <td>-1</td>\n",
       "      <td>-1</td>\n",
       "      <td>1</td>\n",
       "      <td>0</td>\n",
       "      <td>1</td>\n",
       "      <td>1</td>\n",
       "      <td>1</td>\n",
       "      <td>1</td>\n",
       "    </tr>\n",
       "    <tr>\n",
       "      <th>4</th>\n",
       "      <td>democrat</td>\n",
       "      <td>-1</td>\n",
       "      <td>1</td>\n",
       "      <td>1</td>\n",
       "      <td>-1</td>\n",
       "      <td>1</td>\n",
       "      <td>1</td>\n",
       "      <td>-1</td>\n",
       "      <td>-1</td>\n",
       "      <td>-1</td>\n",
       "      <td>-1</td>\n",
       "      <td>-1</td>\n",
       "      <td>-1</td>\n",
       "      <td>1</td>\n",
       "      <td>1</td>\n",
       "      <td>1</td>\n",
       "      <td>1</td>\n",
       "    </tr>\n",
       "  </tbody>\n",
       "</table>\n",
       "</div>"
      ],
      "text/plain": [
       "        party handicapped-infants water-project-cost-sharing  \\\n",
       "0  republican                  -1                          1   \n",
       "1    democrat                   0                          1   \n",
       "2    democrat                  -1                          1   \n",
       "3    democrat                   1                          1   \n",
       "4    democrat                  -1                          1   \n",
       "\n",
       "  adoption-of-the-budget-resolution physician-fee-freeze el-salvador-aid  \\\n",
       "0                                -1                    1               1   \n",
       "1                                 1                    0               1   \n",
       "2                                 1                   -1               0   \n",
       "3                                 1                   -1               1   \n",
       "4                                 1                   -1               1   \n",
       "\n",
       "  religious-groups-in-schools anti-satellite-test-ban  \\\n",
       "0                           1                      -1   \n",
       "1                           1                      -1   \n",
       "2                           1                      -1   \n",
       "3                           1                      -1   \n",
       "4                           1                      -1   \n",
       "\n",
       "  aid-to-nicaraguan-contras mx-missile immigration  \\\n",
       "0                        -1         -1          -1   \n",
       "1                        -1         -1          -1   \n",
       "2                        -1         -1          -1   \n",
       "3                        -1         -1          -1   \n",
       "4                        -1         -1          -1   \n",
       "\n",
       "  synfuels-corporation-cutback education-spending superfund-right-to-sue  \\\n",
       "0                           -1                  1                      1   \n",
       "1                            1                 -1                      1   \n",
       "2                            1                 -1                      1   \n",
       "3                            1                  0                      1   \n",
       "4                           -1                 -1                      1   \n",
       "\n",
       "  crime duty-free-exports export-administration-act-south-africa  \n",
       "0     1                -1                                      0  \n",
       "1     1                -1                                     -1  \n",
       "2    -1                -1                                      1  \n",
       "3     1                 1                                      1  \n",
       "4     1                 1                                      1  "
      ]
     },
     "execution_count": 1,
     "metadata": {},
     "output_type": "execute_result"
    }
   ],
   "source": [
    "import pandas as pd\n",
    "# Kirjoita toteutuksesi tähän soluun. Tallenna vastauksesi df-muuttujaan.\n",
    "# Aineisto ladataan.\n",
    "# Sarakkeiden nimeäminen.\n",
    "#df=pd.read_csv(\"house-votes-84.data\", sep=\",\",names=[\"party\", \"handicapped-infants\", \"water-project-cost-sharing\", \"adoption-of-the-budget-resolution\", \"physician-fee-freeze\", \"el-salvador-aid\", \"religious-groups-in-schools\", \"anti-satellite-test-ban\", \"aid-to-nicaraguan-contras\", \"mx-missile\", \"immigration\", \"synfuels-corporation-cutback\", \"education-spending\", \"superfund-right-to-sue\", \"crime\", \"duty-free-exports\", \"export-administration-act-south-africa\"])\n",
    "df=pd.read_csv(\"house-votes-84.data\", sep=\",\")\n",
    "df.columns =[\"party\", \"handicapped-infants\", \"water-project-cost-sharing\", \"adoption-of-the-budget-resolution\", \"physician-fee-freeze\", \"el-salvador-aid\", \"religious-groups-in-schools\", \"anti-satellite-test-ban\", \"aid-to-nicaraguan-contras\", \"mx-missile\", \"immigration\", \"synfuels-corporation-cutback\", \"education-spending\", \"superfund-right-to-sue\", \"crime\", \"duty-free-exports\", \"export-administration-act-south-africa\"]\n",
    "#df.head()\n",
    "# Arvojen muuttaminen numeerisiksi.\n",
    "# Tyhjien kenttien korvaaminen.\n",
    "df = df.replace(['y'],'1')\n",
    "df = df.replace(['n'],'-1')\n",
    "df = df.replace(['?'],'0')\n",
    "df.head()"
   ]
  },
  {
   "cell_type": "code",
   "execution_count": 2,
   "metadata": {},
   "outputs": [
    {
     "name": "stdout",
     "output_type": "stream",
     "text": [
      "party\n",
      "handicapped-infants\n",
      "water-project-cost-sharing\n",
      "adoption-of-the-budget-resolution\n",
      "physician-fee-freeze\n",
      "el-salvador-aid\n",
      "religious-groups-in-schools\n",
      "anti-satellite-test-ban\n",
      "aid-to-nicaraguan-contras\n",
      "mx-missile\n",
      "immigration\n",
      "synfuels-corporation-cutback\n",
      "education-spending\n",
      "superfund-right-to-sue\n",
      "crime\n",
      "duty-free-exports\n",
      "export-administration-act-south-africa\n"
     ]
    }
   ],
   "source": [
    "for col in df.columns:\n",
    "    print(col)"
   ]
  },
  {
   "cell_type": "code",
   "execution_count": 3,
   "metadata": {
    "tags": [
     "answer_1_2"
    ]
   },
   "outputs": [
    {
     "name": "stdout",
     "output_type": "stream",
     "text": [
      "Columns: Index(['party', 'handicapped-infants', 'water-project-cost-sharing',\n",
      "       'adoption-of-the-budget-resolution', 'physician-fee-freeze',\n",
      "       'el-salvador-aid', 'religious-groups-in-schools',\n",
      "       'anti-satellite-test-ban', 'aid-to-nicaraguan-contras', 'mx-missile',\n",
      "       'immigration', 'synfuels-corporation-cutback', 'education-spending',\n",
      "       'superfund-right-to-sue', 'crime', 'duty-free-exports',\n",
      "       'export-administration-act-south-africa'],\n",
      "      dtype='object')\n",
      "First row by position: party                                     republican\n",
      "handicapped-infants                               -1\n",
      "water-project-cost-sharing                         1\n",
      "adoption-of-the-budget-resolution                 -1\n",
      "physician-fee-freeze                               1\n",
      "el-salvador-aid                                    1\n",
      "religious-groups-in-schools                        1\n",
      "anti-satellite-test-ban                           -1\n",
      "aid-to-nicaraguan-contras                         -1\n",
      "mx-missile                                        -1\n",
      "immigration                                       -1\n",
      "synfuels-corporation-cutback                      -1\n",
      "education-spending                                 1\n",
      "superfund-right-to-sue                             1\n",
      "crime                                              1\n",
      "duty-free-exports                                 -1\n",
      "export-administration-act-south-africa             0\n",
      "Name: 0, dtype: object\n",
      "anti-satellite-test-ban unique values: ['-1' '1' '0']\n",
      "export-administration-act-south-africa unique values: ['0' '-1' '1']\n"
     ]
    }
   ],
   "source": [
    "# Tehtävän vastaukset. Huom! Älä muokkaa tätä solua, vaan aja se, kun olet suorittanut tehtävän. \n",
    "# Tallenna DataFrame df-muuttujaan.\n",
    "print(f'Columns: {df.columns}')\n",
    "print(f'First row by position: {df.iloc[0]}')\n",
    "print(f'anti-satellite-test-ban unique values: {df[\"anti-satellite-test-ban\"].unique()}')\n",
    "print(f'export-administration-act-south-africa unique values: {df[\"export-administration-act-south-africa\"].unique()}')"
   ]
  },
  {
   "cell_type": "markdown",
   "metadata": {},
   "source": [
    "## Tehtävä 3\n",
    "\n",
    "### Aihe: Datan visualisointi\n",
    "\n",
    "3 pistettä\n",
    "\n",
    "Huomaatko eroa eri puolueiden äänestyskäyttäytymisessä?\n",
    "\n",
    "Hyödynnä edellisen tehtävän DataFramea. Piirrä aineistosta heatmap, jossa näkyvät ensin republikaanit ja sitten demokraatit allekkain. Kongressiedustajat ovat siis rivejä ja lakikysymykset sarakkeina. \n",
    "\n",
    "Muista, että selkeään esitystapaan kuuluvat myös nimetyt akselit ja kuvaajan otsikko. \n",
    "\n",
    "Vinkki: voit käyttää esimerkiksi `seaborn`-kirjaston [heatmap-kuvaajaa](https://seaborn.pydata.org/generated/seaborn.heatmap.html).\n",
    "\n",
    "Vinkki: voi olla järkevää pudottaa luokkamuuttuja pois tätä kuvaa varten (ks. `df.drop()`).\n",
    "\n",
    "Vinkki: väriasteikon saa nimettyä heatmapin parametrilla `cbar_kws={'label': 'kirjoita oma'}`."
   ]
  },
  {
   "cell_type": "code",
   "execution_count": 32,
   "metadata": {},
   "outputs": [],
   "source": [
    "# Kirjoita toteutuksesi tähän soluun. \n",
    "\n",
    "# Järjestä rivit.\n",
    "\n",
    "# Piirrä heatmap.\n"
   ]
  },
  {
   "cell_type": "code",
   "execution_count": 33,
   "metadata": {},
   "outputs": [
    {
     "data": {
      "image/png": "[encoded data removed]",
      "text/plain": [
       "<Figure size 432x288 with 2 Axes>"
      ]
     },
     "metadata": {
      "needs_background": "light"
     },
     "output_type": "display_data"
    }
   ],
   "source": [
    "import seaborn as sns\n",
    "# Kirjoita toteutuksesi tähän soluun. \n",
    "\n",
    "# Järjestä rivit.\n",
    "df[[, \"water-project-cost-sharing\", \"adoption-of-the-budget-resolution\", \"physician-fee-freeze\", \"el-salvador-aid\", \"religious-groups-in-schools\", \"anti-satellite-test-ban\", \"aid-to-nicaraguan-contras\", \"mx-missile\", \"immigration\", \"synfuels-corporation-cutback\", \"education-spending\", \"superfund-right-to-sue\", \"crime\", \"duty-free-exports\", \"export-administration-act-south-africa\"]] = df[[\"handicapped-infants\", \"water-project-cost-sharing\", \"adoption-of-the-budget-resolution\", \"physician-fee-freeze\", \"el-salvador-aid\", \"religious-groups-in-schools\", \"anti-satellite-test-ban\", \"aid-to-nicaraguan-contras\", \"mx-missile\", \"immigration\", \"synfuels-corporation-cutback\", \"education-spending\", \"superfund-right-to-sue\", \"crime\", \"duty-free-exports\", \"export-administration-act-south-africa\"]].apply(pd.to_numeric)\n",
    "\n",
    "df = pd.pivot_table(data=df,index='party')\n",
    "df.head()\n",
    "# Piirrä heatmap.\n",
    "ax = sns.heatmap(df)"
   ]
  },
  {
   "cell_type": "code",
   "execution_count": 34,
   "metadata": {
    "tags": [
     "answer_1_3"
    ]
   },
   "outputs": [
    {
     "data": {
      "image/png": "[encoded data removed]",
      "text/plain": [
       "<Figure size 432x288 with 2 Axes>"
      ]
     },
     "execution_count": 34,
     "metadata": {},
     "output_type": "execute_result"
    }
   ],
   "source": [
    "# Tehtävän vastaukset. Huom! Älä muokkaa tätä solua, vaan aja se, kun olet suorittanut tehtävän. \n",
    "# Tee vastauksesi siten, että tämän solun tuloksena näkyy alla kaaviokuva. Tallenna kuva muuttujaan ax siten, että ax.figure näyttää sen alla.\n",
    "ax.figure"
   ]
  },
  {
   "cell_type": "markdown",
   "metadata": {},
   "source": [
    "## Tehtävä 4\n",
    "\n",
    "### Aihe: kNN-luokittelija\n",
    "\n",
    "3 pistettä\n",
    "\n",
    "Käytä scikit-learn-kirjaston [kNN-luokittelijaa](https://scikit-learn.org/stable/modules/generated/sklearn.neighbors.KNeighborsClassifier.html) löytääksesi aineistosta kongressiedustaja, joka on lähinnä henkilöä, joka vastaisi y-vastauksella kaikkiin lakikysymyksiin. \n",
    "\n",
    "Muista pudottaa luokkamuuttuja pois.\n",
    "\n",
    "1. Tallenna löydetystä kongressiedustajasta seuraavat tiedot: \n",
    "  * mitä puoluetta lähinnä hän on: `yes_man_party`\n",
    "  * millä todennäköisyydellä: `yes_man_proba`\n",
    "  \n",
    "2. Tee sama myös henkilölle, joka vastaisi lakikysymyksiin seuraavasti: y,y,y,n,n,n,n,y,y,y,n,n,n,n,y,y. Tallenna vastaukset vastaaviin muuttujiin `mystery_man_row` ja `mystery_man_party`. \n",
    "\n",
    "Vinkki: kun luot kaikkiin y-vastauksella vastanneen henkilön vektorin, tulee se olla lista listoista: esim. jos muuttujia olisi neljä, `[[1,1,1,1...,1]]` (muuttujiahan meillä tässä on enemmän, joten vastauksessa vektori on pidempi).\n",
    "\n",
    "Vinkki: muista pudottaa luokkamuuttuja pois kouluttaessasi luokittelijaa."
   ]
  },
  {
   "cell_type": "code",
   "execution_count": 35,
   "metadata": {},
   "outputs": [],
   "source": [
    "# Kirjoita toteutuksesi tähän soluun. \n"
   ]
  },
  {
   "cell_type": "code",
   "execution_count": null,
   "metadata": {},
   "outputs": [],
   "source": []
  },
  {
   "cell_type": "code",
   "execution_count": 4,
   "metadata": {},
   "outputs": [],
   "source": [
    "# Kirjoita toteutuksesi tähän soluun. \n",
    "from sklearn.model_selection import train_test_split\n",
    "from sklearn.preprocessing import StandardScaler\n",
    "myscaler = StandardScaler()\n",
    "myscaler.fit(X = df.drop('party', axis = 1))\n",
    "X = myscaler.transform(X = df.drop('party', axis = 1))\n"
   ]
  },
  {
   "cell_type": "code",
   "execution_count": 14,
   "metadata": {},
   "outputs": [
    {
     "name": "stdout",
     "output_type": "stream",
     "text": [
      "303\n",
      "131\n",
      "303\n",
      "131\n"
     ]
    }
   ],
   "source": [
    "y = df['party']\n",
    "X_train, X_test, y_train, y_test = train_test_split(X, y, test_size = 0.3, random_state = 101)\n",
    "print(str(len(X_train)))\n",
    "print(str(len(X_test)))\n",
    "print(str(len(y_train)))\n",
    "print(str(len(y_test)))"
   ]
  },
  {
   "cell_type": "code",
   "execution_count": 15,
   "metadata": {},
   "outputs": [
    {
     "data": {
      "text/plain": [
       "KNeighborsClassifier(n_neighbors=1)"
      ]
     },
     "execution_count": 15,
     "metadata": {},
     "output_type": "execute_result"
    }
   ],
   "source": [
    "from sklearn.neighbors import KNeighborsClassifier\n",
    "myKNN = KNeighborsClassifier(n_neighbors = 1)\n",
    "myKNN.fit(X_train, y_train)"
   ]
  },
  {
   "cell_type": "code",
   "execution_count": 16,
   "metadata": {},
   "outputs": [
    {
     "data": {
      "text/plain": [
       "array(['democrat', 'democrat', 'democrat', 'democrat', 'democrat',\n",
       "       'democrat', 'democrat', 'democrat', 'democrat', 'republican',\n",
       "       'democrat', 'democrat', 'democrat', 'democrat', 'democrat',\n",
       "       'democrat', 'democrat', 'republican', 'republican', 'republican',\n",
       "       'republican', 'democrat', 'republican', 'republican', 'republican',\n",
       "       'democrat', 'republican', 'republican', 'democrat', 'democrat',\n",
       "       'democrat', 'democrat', 'democrat', 'democrat', 'republican',\n",
       "       'republican', 'republican', 'republican', 'republican', 'democrat',\n",
       "       'democrat', 'republican', 'republican', 'democrat', 'republican',\n",
       "       'republican', 'republican', 'republican', 'democrat', 'republican',\n",
       "       'democrat', 'democrat', 'republican', 'democrat', 'democrat',\n",
       "       'democrat', 'democrat', 'republican', 'democrat', 'republican',\n",
       "       'republican', 'democrat', 'democrat', 'democrat', 'democrat',\n",
       "       'democrat', 'republican', 'democrat', 'democrat', 'democrat',\n",
       "       'republican', 'democrat', 'democrat', 'democrat', 'democrat',\n",
       "       'republican', 'democrat', 'democrat', 'democrat', 'democrat',\n",
       "       'democrat', 'republican', 'democrat', 'democrat', 'republican',\n",
       "       'democrat', 'democrat', 'democrat', 'republican', 'democrat',\n",
       "       'democrat', 'democrat', 'republican', 'republican', 'republican',\n",
       "       'democrat', 'democrat', 'democrat', 'democrat', 'republican',\n",
       "       'republican', 'democrat', 'republican', 'democrat', 'republican',\n",
       "       'republican', 'republican', 'republican', 'republican',\n",
       "       'republican', 'democrat', 'democrat', 'republican', 'republican',\n",
       "       'republican', 'republican', 'republican', 'democrat', 'democrat',\n",
       "       'democrat', 'democrat', 'democrat', 'democrat', 'republican',\n",
       "       'democrat', 'republican', 'democrat', 'republican', 'democrat',\n",
       "       'republican', 'republican'], dtype=object)"
      ]
     },
     "execution_count": 16,
     "metadata": {},
     "output_type": "execute_result"
    }
   ],
   "source": [
    "y_predict = myKNN.predict(X_test)\n",
    "y_predict"
   ]
  },
  {
   "cell_type": "code",
   "execution_count": 17,
   "metadata": {},
   "outputs": [
    {
     "data": {
      "text/plain": [
       "array(['democrat'], dtype=object)"
      ]
     },
     "execution_count": 17,
     "metadata": {},
     "output_type": "execute_result"
    }
   ],
   "source": [
    "rows= [[1,1,1,1,1,1,1,1,1,1,1,1,1,1,1,1]]\n",
    "yes_man_party=myKNN.predict(rows)\n",
    "yes_man_party"
   ]
  },
  {
   "cell_type": "code",
   "execution_count": 18,
   "metadata": {},
   "outputs": [
    {
     "data": {
      "text/plain": [
       "array([[1., 0.]])"
      ]
     },
     "execution_count": 18,
     "metadata": {},
     "output_type": "execute_result"
    }
   ],
   "source": [
    "yes= [[1,1,1,1,1,1,1,1,1,1,1,1,1,1,1,1]]\n",
    "yes_man_proba=myKNN.predict_proba(yes)\n",
    "yes_man_proba"
   ]
  },
  {
   "cell_type": "code",
   "execution_count": 19,
   "metadata": {},
   "outputs": [
    {
     "data": {
      "text/plain": [
       "array(['democrat'], dtype=object)"
      ]
     },
     "execution_count": 19,
     "metadata": {},
     "output_type": "execute_result"
    }
   ],
   "source": [
    "rows= [[1,1,1,-1,-1,-1,-1,1,1,1,-1,-1,-1,-1,1,1]]\n",
    "mystery_man_party=myKNN.predict(rows)\n",
    "mystery_man_party"
   ]
  },
  {
   "cell_type": "code",
   "execution_count": 20,
   "metadata": {},
   "outputs": [
    {
     "data": {
      "text/plain": [
       "array([[1., 0.]])"
      ]
     },
     "execution_count": 20,
     "metadata": {},
     "output_type": "execute_result"
    }
   ],
   "source": [
    "mystery_man_proba=myKNN.predict_proba(rows)\n",
    "mystery_man_proba"
   ]
  },
  {
   "cell_type": "code",
   "execution_count": 21,
   "metadata": {
    "tags": [
     "answer_1_4"
    ]
   },
   "outputs": [
    {
     "name": "stdout",
     "output_type": "stream",
     "text": [
      "['democrat']\n",
      "[[1. 0.]]\n",
      "['democrat']\n",
      "[[1. 0.]]\n"
     ]
    }
   ],
   "source": [
    "# Tehtävän vastaukset. Huom! Älä muokkaa tätä solua, vaan aja se, kun olet suorittanut tehtävän. \n",
    "# Tallenna näiden kahden kongressiedustajan tiedot mainittuihin muuttujiin.\n",
    "print(yes_man_party)\n",
    "print(yes_man_proba)\n",
    "print(mystery_man_party)\n",
    "print(mystery_man_proba)"
   ]
  },
  {
   "cell_type": "code",
   "execution_count": null,
   "metadata": {},
   "outputs": [],
   "source": []
  }
 ],
 "metadata": {
  "kernelspec": {
   "display_name": "Python 3",
   "language": "python",
   "name": "python3"
  },
  "language_info": {
   "codemirror_mode": {
    "name": "ipython",
    "version": 3
   },
   "file_extension": ".py",
   "mimetype": "text/x-python",
   "name": "python",
   "nbconvert_exporter": "python",
   "pygments_lexer": "ipython3",
   "version": "3.7.3"
  }
 },
 "nbformat": 4,
 "nbformat_minor": 4
}
