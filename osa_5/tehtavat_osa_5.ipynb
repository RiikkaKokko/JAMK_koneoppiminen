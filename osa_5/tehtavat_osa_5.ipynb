{
 "cells": [
  {
   "cell_type": "markdown",
   "metadata": {},
   "source": [
    "# Koneoppiminen: Osa 5: Pääkomponenttianalyysi"
   ]
  },
  {
   "cell_type": "code",
   "execution_count": 27,
   "metadata": {
    "tags": [
     "student_info"
    ]
   },
   "outputs": [],
   "source": [
    "# Kirjoita tähän tietosi!\n",
    "student_name = 'Riikka Kokko'\n",
    "student_id = 'AA9067'"
   ]
  },
  {
   "cell_type": "markdown",
   "metadata": {},
   "source": [
    "## Tehtävä 1\n",
    "### Aihe: Kohdunkaulansyöpä\n",
    "\n",
    "2 pistettä\n",
    "\n",
    "Tutustu ja hae aineisto osoitteesta https://archive.ics.uci.edu/ml/datasets/Cervical+Cancer+Behavior+Risk .\n",
    "\n",
    "Lataa aineisto DataFrameen. Suorita tarvittava esikäsittely aineistolle. \n"
   ]
  },
  {
   "cell_type": "code",
   "execution_count": 28,
   "metadata": {},
   "outputs": [
    {
     "data": {
      "text/html": [
       "<div>\n",
       "<style scoped>\n",
       "    .dataframe tbody tr th:only-of-type {\n",
       "        vertical-align: middle;\n",
       "    }\n",
       "\n",
       "    .dataframe tbody tr th {\n",
       "        vertical-align: top;\n",
       "    }\n",
       "\n",
       "    .dataframe thead th {\n",
       "        text-align: right;\n",
       "    }\n",
       "</style>\n",
       "<table border=\"1\" class=\"dataframe\">\n",
       "  <thead>\n",
       "    <tr style=\"text-align: right;\">\n",
       "      <th></th>\n",
       "      <th>behavior_sexualRisk</th>\n",
       "      <th>behavior_eating</th>\n",
       "      <th>behavior_personalHygine</th>\n",
       "      <th>intention_aggregation</th>\n",
       "      <th>intention_commitment</th>\n",
       "      <th>attitude_consistency</th>\n",
       "      <th>attitude_spontaneity</th>\n",
       "      <th>norm_significantPerson</th>\n",
       "      <th>norm_fulfillment</th>\n",
       "      <th>perception_vulnerability</th>\n",
       "      <th>perception_severity</th>\n",
       "      <th>motivation_strength</th>\n",
       "      <th>motivation_willingness</th>\n",
       "      <th>socialSupport_emotionality</th>\n",
       "      <th>socialSupport_appreciation</th>\n",
       "      <th>socialSupport_instrumental</th>\n",
       "      <th>empowerment_knowledge</th>\n",
       "      <th>empowerment_abilities</th>\n",
       "      <th>empowerment_desires</th>\n",
       "      <th>ca_cervix</th>\n",
       "    </tr>\n",
       "  </thead>\n",
       "  <tbody>\n",
       "    <tr>\n",
       "      <th>0</th>\n",
       "      <td>10</td>\n",
       "      <td>13</td>\n",
       "      <td>12</td>\n",
       "      <td>4</td>\n",
       "      <td>7</td>\n",
       "      <td>9</td>\n",
       "      <td>10</td>\n",
       "      <td>1</td>\n",
       "      <td>8</td>\n",
       "      <td>7</td>\n",
       "      <td>3</td>\n",
       "      <td>14</td>\n",
       "      <td>8</td>\n",
       "      <td>5</td>\n",
       "      <td>7</td>\n",
       "      <td>12</td>\n",
       "      <td>12</td>\n",
       "      <td>11</td>\n",
       "      <td>8</td>\n",
       "      <td>1</td>\n",
       "    </tr>\n",
       "    <tr>\n",
       "      <th>1</th>\n",
       "      <td>10</td>\n",
       "      <td>11</td>\n",
       "      <td>11</td>\n",
       "      <td>10</td>\n",
       "      <td>14</td>\n",
       "      <td>7</td>\n",
       "      <td>7</td>\n",
       "      <td>5</td>\n",
       "      <td>5</td>\n",
       "      <td>4</td>\n",
       "      <td>2</td>\n",
       "      <td>15</td>\n",
       "      <td>13</td>\n",
       "      <td>7</td>\n",
       "      <td>6</td>\n",
       "      <td>5</td>\n",
       "      <td>5</td>\n",
       "      <td>4</td>\n",
       "      <td>4</td>\n",
       "      <td>1</td>\n",
       "    </tr>\n",
       "    <tr>\n",
       "      <th>2</th>\n",
       "      <td>10</td>\n",
       "      <td>15</td>\n",
       "      <td>3</td>\n",
       "      <td>2</td>\n",
       "      <td>14</td>\n",
       "      <td>8</td>\n",
       "      <td>10</td>\n",
       "      <td>1</td>\n",
       "      <td>4</td>\n",
       "      <td>7</td>\n",
       "      <td>2</td>\n",
       "      <td>7</td>\n",
       "      <td>3</td>\n",
       "      <td>3</td>\n",
       "      <td>6</td>\n",
       "      <td>11</td>\n",
       "      <td>3</td>\n",
       "      <td>3</td>\n",
       "      <td>15</td>\n",
       "      <td>1</td>\n",
       "    </tr>\n",
       "    <tr>\n",
       "      <th>3</th>\n",
       "      <td>10</td>\n",
       "      <td>11</td>\n",
       "      <td>10</td>\n",
       "      <td>10</td>\n",
       "      <td>15</td>\n",
       "      <td>7</td>\n",
       "      <td>7</td>\n",
       "      <td>1</td>\n",
       "      <td>5</td>\n",
       "      <td>4</td>\n",
       "      <td>2</td>\n",
       "      <td>15</td>\n",
       "      <td>13</td>\n",
       "      <td>7</td>\n",
       "      <td>4</td>\n",
       "      <td>4</td>\n",
       "      <td>4</td>\n",
       "      <td>4</td>\n",
       "      <td>4</td>\n",
       "      <td>1</td>\n",
       "    </tr>\n",
       "    <tr>\n",
       "      <th>4</th>\n",
       "      <td>8</td>\n",
       "      <td>11</td>\n",
       "      <td>7</td>\n",
       "      <td>8</td>\n",
       "      <td>10</td>\n",
       "      <td>7</td>\n",
       "      <td>8</td>\n",
       "      <td>1</td>\n",
       "      <td>5</td>\n",
       "      <td>3</td>\n",
       "      <td>2</td>\n",
       "      <td>15</td>\n",
       "      <td>5</td>\n",
       "      <td>3</td>\n",
       "      <td>6</td>\n",
       "      <td>12</td>\n",
       "      <td>5</td>\n",
       "      <td>4</td>\n",
       "      <td>7</td>\n",
       "      <td>1</td>\n",
       "    </tr>\n",
       "  </tbody>\n",
       "</table>\n",
       "</div>"
      ],
      "text/plain": [
       "   behavior_sexualRisk  behavior_eating  behavior_personalHygine  \\\n",
       "0                   10               13                       12   \n",
       "1                   10               11                       11   \n",
       "2                   10               15                        3   \n",
       "3                   10               11                       10   \n",
       "4                    8               11                        7   \n",
       "\n",
       "   intention_aggregation  intention_commitment  attitude_consistency  \\\n",
       "0                      4                     7                     9   \n",
       "1                     10                    14                     7   \n",
       "2                      2                    14                     8   \n",
       "3                     10                    15                     7   \n",
       "4                      8                    10                     7   \n",
       "\n",
       "   attitude_spontaneity  norm_significantPerson  norm_fulfillment  \\\n",
       "0                    10                       1                 8   \n",
       "1                     7                       5                 5   \n",
       "2                    10                       1                 4   \n",
       "3                     7                       1                 5   \n",
       "4                     8                       1                 5   \n",
       "\n",
       "   perception_vulnerability  perception_severity  motivation_strength  \\\n",
       "0                         7                    3                   14   \n",
       "1                         4                    2                   15   \n",
       "2                         7                    2                    7   \n",
       "3                         4                    2                   15   \n",
       "4                         3                    2                   15   \n",
       "\n",
       "   motivation_willingness  socialSupport_emotionality  \\\n",
       "0                       8                           5   \n",
       "1                      13                           7   \n",
       "2                       3                           3   \n",
       "3                      13                           7   \n",
       "4                       5                           3   \n",
       "\n",
       "   socialSupport_appreciation  socialSupport_instrumental  \\\n",
       "0                           7                          12   \n",
       "1                           6                           5   \n",
       "2                           6                          11   \n",
       "3                           4                           4   \n",
       "4                           6                          12   \n",
       "\n",
       "   empowerment_knowledge  empowerment_abilities  empowerment_desires  \\\n",
       "0                     12                     11                    8   \n",
       "1                      5                      4                    4   \n",
       "2                      3                      3                   15   \n",
       "3                      4                      4                    4   \n",
       "4                      5                      4                    7   \n",
       "\n",
       "   ca_cervix  \n",
       "0          1  \n",
       "1          1  \n",
       "2          1  \n",
       "3          1  \n",
       "4          1  "
      ]
     },
     "execution_count": 28,
     "metadata": {},
     "output_type": "execute_result"
    }
   ],
   "source": [
    "# Kirjoita toteutuksesi tähän soluun. \n",
    "import pandas as pd\n",
    "df=pd.read_csv(\"sobar-72.csv\", sep=\",\", delim_whitespace=False)\n",
    "df.head()"
   ]
  },
  {
   "cell_type": "code",
   "execution_count": 29,
   "metadata": {},
   "outputs": [],
   "source": [
    "#Sarakkeiden arvojen normalisointi MinMaxscaler\n",
    "#from sklearn.preprocessing import MinMaxScaler\n",
    "#min_max_scaler = MinMaxScaler()\n",
    "#df[['behavior_sexualRisk', 'behavior_eating', 'behavior_personalHygine',\n",
    " #      'intention_aggregation', 'intention_commitment', 'attitude_consistency',\n",
    "  #     'attitude_spontaneity', 'norm_significantPerson', 'norm_fulfillment',\n",
    "   #    'perception_vulnerability', 'perception_severity',\n",
    "    #   'motivation_strength', 'motivation_willingness',\n",
    "     #  'socialSupport_emotionality', 'socialSupport_appreciation',\n",
    "      # 'socialSupport_instrumental', 'empowerment_knowledge',\n",
    "       #'empowerment_abilities', 'empowerment_desires']] = min_max_scaler.fit_transform(df[['behavior_sexualRisk', 'behavior_eating', 'behavior_personalHygine',\n",
    "#       'intention_aggregation', 'intention_commitment', 'attitude_consistency',\n",
    "#       'attitude_spontaneity', 'norm_significantPerson', 'norm_fulfillment',\n",
    " #      'perception_vulnerability', 'perception_severity',\n",
    "  #     'motivation_strength', 'motivation_willingness',\n",
    "   #    'socialSupport_emotionality', 'socialSupport_appreciation',\n",
    "    #   'socialSupport_instrumental', 'empowerment_knowledge',\n",
    "     #  'empowerment_abilities', 'empowerment_desires']])\n",
    "#df.head()"
   ]
  },
  {
   "cell_type": "code",
   "execution_count": 30,
   "metadata": {
    "tags": [
     "answer_5_1"
    ]
   },
   "outputs": [
    {
     "name": "stdout",
     "output_type": "stream",
     "text": [
      "Length: 72\n",
      "Columns: Index(['behavior_sexualRisk', 'behavior_eating', 'behavior_personalHygine',\n",
      "       'intention_aggregation', 'intention_commitment', 'attitude_consistency',\n",
      "       'attitude_spontaneity', 'norm_significantPerson', 'norm_fulfillment',\n",
      "       'perception_vulnerability', 'perception_severity',\n",
      "       'motivation_strength', 'motivation_willingness',\n",
      "       'socialSupport_emotionality', 'socialSupport_appreciation',\n",
      "       'socialSupport_instrumental', 'empowerment_knowledge',\n",
      "       'empowerment_abilities', 'empowerment_desires', 'ca_cervix'],\n",
      "      dtype='object')\n"
     ]
    }
   ],
   "source": [
    "# Tehtävän vastaukset. Huom! Älä muokkaa tätä solua, vaan aja se, kun olet suorittanut tehtävän. \n",
    "# Tallenna tuloksesi df-muuttujaan.\n",
    "print(f'Length: {len(df)}')\n",
    "print(f'Columns: {df.columns}')"
   ]
  },
  {
   "cell_type": "markdown",
   "metadata": {},
   "source": [
    "## Tehtävä 2\n",
    "### Aihe: Pääkomponenttianalyysi\n",
    "\n",
    "3 pistettä\n",
    "\n",
    "Suorita aineistolle pääkomponenttianalyysi `scikit-learn`-kirjaston `decomposition`-moduulin [PCA](https://scikit-learn.org/stable/modules/generated/sklearn.decomposition.PCA.html)-menetelmällä. Tallenna  malli `pca`-muuttujaan. \n"
   ]
  },
  {
   "cell_type": "code",
   "execution_count": 31,
   "metadata": {},
   "outputs": [],
   "source": [
    "# Kirjoita toteutuksesi tähän soluun. \n",
    "\n"
   ]
  },
  {
   "cell_type": "code",
   "execution_count": 32,
   "metadata": {},
   "outputs": [
    {
     "name": "stdout",
     "output_type": "stream",
     "text": [
      "[0.40075295 0.23631225 0.07457503]\n"
     ]
    }
   ],
   "source": [
    "# Kirjoita toteutuksesi tähän soluun. \n",
    "pca = None\n",
    "from sklearn.decomposition import PCA\n",
    "X=df.drop(\"ca_cervix\", axis=1)\n",
    "pca=PCA(n_components=3)\n",
    "pca.fit(X)\n",
    "pca.explained_variance_ratio_=pca.explained_variance_ratio_\n",
    "print(pca.explained_variance_ratio_)"
   ]
  },
  {
   "cell_type": "code",
   "execution_count": 33,
   "metadata": {
    "tags": [
     "answer_5_2"
    ]
   },
   "outputs": [
    {
     "name": "stdout",
     "output_type": "stream",
     "text": [
      "Explained variance: [0.40075295 0.23631225 0.07457503]\n"
     ]
    }
   ],
   "source": [
    "# Tehtävän vastaukset. Huom! Älä muokkaa tätä solua, vaan aja se, kun olet suorittanut tehtävän. \n",
    "# Tallenna mallisi pca-muuttujaan.\n",
    "print(f'Explained variance: {pca.explained_variance_ratio_}')"
   ]
  },
  {
   "cell_type": "code",
   "execution_count": 34,
   "metadata": {},
   "outputs": [
    {
     "name": "stdout",
     "output_type": "stream",
     "text": [
      "[0.28708527 0.18606619 0.08846312]\n"
     ]
    }
   ],
   "source": [
    "from sklearn.preprocessing import StandardScaler\n",
    "x = df.drop(labels='ca_cervix', axis=1).values\n",
    "y = df['ca_cervix'].values\n",
    "std = StandardScaler()\n",
    "transformed = StandardScaler().fit_transform(x)\n",
    "pca = PCA(n_components=3)\n",
    "pca.fit(transformed)\n",
    "pca.explained_variance_ratio_=pca.explained_variance_ratio_\n",
    "print(pca.explained_variance_ratio_)"
   ]
  },
  {
   "cell_type": "markdown",
   "metadata": {},
   "source": [
    "## Tehtävä 3\n",
    "### Aihe: Visualistointi\n",
    "\n",
    "2 pistettä\n",
    "\n",
    "1. Piirrä hajontakuvio ensimmäisestä ja toisesta pääkomponentista. \n",
    "2. Väritä luokkamuuttujan mukaisesti terveet tapaukset sinisellä ympyrällä ja sairastuneet tapaukset oranssilla ruksilla. \n",
    "\n",
    "Vinkki: `seaborn`-kirjastossa 2D-kuvaajaan kätevät työkalut. "
   ]
  },
  {
   "cell_type": "code",
   "execution_count": 35,
   "metadata": {},
   "outputs": [
    {
     "data": {
      "text/plain": [
       "(72, 3)"
      ]
     },
     "execution_count": 35,
     "metadata": {},
     "output_type": "execute_result"
    }
   ],
   "source": [
    "x_std=pca.transform(transformed)\n",
    "x_std.shape"
   ]
  },
  {
   "cell_type": "code",
   "execution_count": 36,
   "metadata": {},
   "outputs": [
    {
     "data": {
      "text/plain": [
       "0    51\n",
       "1    21\n",
       "Name: ca_cervix, dtype: int64"
      ]
     },
     "execution_count": 36,
     "metadata": {},
     "output_type": "execute_result"
    }
   ],
   "source": [
    "df[\"ca_cervix\"].value_counts()"
   ]
  },
  {
   "cell_type": "code",
   "execution_count": 63,
   "metadata": {},
   "outputs": [
    {
     "data": {
      "text/plain": [
       "Text(0, 0.5, '2. pääkomponentti')"
      ]
     },
     "execution_count": 63,
     "metadata": {},
     "output_type": "execute_result"
    },
    {
     "data": {
      "image/png": "[encoded data removed]",
      "text/plain": [
       "<Figure size 432x288 with 1 Axes>"
      ]
     },
     "metadata": {
      "needs_background": "light"
     },
     "output_type": "display_data"
    }
   ],
   "source": [
    "y=df[\"ca_cervix\"]\n",
    "ax=plt.scatter(x_std[y==1, 0], x_std[y==1, 1], marker='x', color=\"orange\", label=\"sairas\")\n",
    "ax=plt.scatter(x_std[y==0, 0], x_std[y==0, 1], marker='o', color=\"blue\", label=\"terve\")\n",
    "plt.legend(loc=\"upper right\")\n",
    "plt.title(\"Pääkomponenttianalyysi\")\n",
    "plt.xlabel(\"1. pääkomponentti\")\n",
    "plt.ylabel(\"2. pääkomponentti\")"
   ]
  },
  {
   "cell_type": "code",
   "execution_count": 64,
   "metadata": {
    "tags": [
     "answer_5_3"
    ]
   },
   "outputs": [
    {
     "data": {
      "image/png": "[encoded data removed]",
      "text/plain": [
       "<Figure size 432x288 with 1 Axes>"
      ]
     },
     "execution_count": 64,
     "metadata": {},
     "output_type": "execute_result"
    }
   ],
   "source": [
    "# Tehtävän vastaukset. Huom! Älä muokkaa tätä solua, vaan aja se, kun olet suorittanut tehtävän. \n",
    "# Tee vastauksesi siten, että tämän solun tuloksena näkyy alla molemmat kaaviokuvat.\n",
    "ax.figure"
   ]
  },
  {
   "cell_type": "markdown",
   "metadata": {},
   "source": [
    "## Tehtävä 4\n",
    "## Aihe: 3D-visualisointi\n",
    "\n",
    "3 pistettä\n",
    "\n",
    "Piirrä myös hajontakuvio kolmesta ensimmäisestä pääkomponentista.\n",
    "\n",
    "Vinkki: 3D-kuvaajaan joutuu käyttämään `matplotlib`-kirjastoa."
   ]
  },
  {
   "cell_type": "code",
   "execution_count": 65,
   "metadata": {},
   "outputs": [
    {
     "data": {
      "text/plain": [
       "<mpl_toolkits.mplot3d.art3d.Path3DCollection at 0x18a91567da0>"
      ]
     },
     "execution_count": 65,
     "metadata": {},
     "output_type": "execute_result"
    },
    {
     "data": {
      "image/png": "[encoded data removed]",
      "text/plain": [
       "<Figure size 432x288 with 1 Axes>"
      ]
     },
     "metadata": {
      "needs_background": "light"
     },
     "output_type": "display_data"
    }
   ],
   "source": [
    "# Kirjoita toteutuksesi tähän soluun. \n",
    "fig = plt.figure()\n",
    "ax = fig.add_subplot(111, projection='3d')\n",
    "ax.scatter(x_std[:, 0], x_std[:, 1], x_std[:, 2])"
   ]
  },
  {
   "cell_type": "code",
   "execution_count": 66,
   "metadata": {
    "tags": [
     "answer_5_4"
    ]
   },
   "outputs": [
    {
     "data": {
      "image/png": "[encoded data removed]",
      "text/plain": [
       "<Figure size 432x288 with 1 Axes>"
      ]
     },
     "execution_count": 66,
     "metadata": {},
     "output_type": "execute_result"
    }
   ],
   "source": [
    "# Tehtävän vastaukset. Huom! Älä muokkaa tätä solua, vaan aja se, kun olet suorittanut tehtävän. \n",
    "# Tee vastauksesi siten, että tämän solun tuloksena näkyy alla molemmat kaaviokuvat.\n",
    "ax.figure"
   ]
  },
  {
   "cell_type": "code",
   "execution_count": null,
   "metadata": {},
   "outputs": [],
   "source": []
  }
 ],
 "metadata": {
  "kernelspec": {
   "display_name": "Python 3",
   "language": "python",
   "name": "python3"
  },
  "language_info": {
   "codemirror_mode": {
    "name": "ipython",
    "version": 3
   },
   "file_extension": ".py",
   "mimetype": "text/x-python",
   "name": "python",
   "nbconvert_exporter": "python",
   "pygments_lexer": "ipython3",
   "version": "3.7.3"
  }
 },
 "nbformat": 4,
 "nbformat_minor": 4
}
